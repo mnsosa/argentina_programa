{
  "nbformat": 4,
  "nbformat_minor": 0,
  "metadata": {
    "colab": {
      "provenance": [],
      "toc_visible": true,
      "authorship_tag": "ABX9TyOa7hwAJW7wxEPTDY228O1F",
      "include_colab_link": true
    },
    "kernelspec": {
      "name": "python3",
      "display_name": "Python 3"
    },
    "language_info": {
      "name": "python"
    }
  },
  "cells": [
    {
      "cell_type": "markdown",
      "metadata": {
        "id": "view-in-github",
        "colab_type": "text"
      },
      "source": [
        "<a href=\"https://colab.research.google.com/github/mnsosa/argentina_programa/blob/master/notebooks/Pandas%2C_ML%2C_RegLog%C3%ADstica_y_Lineal.ipynb\" target=\"_parent\"><img src=\"https://colab.research.google.com/assets/colab-badge.svg\" alt=\"Open In Colab\"/></a>"
      ]
    },
    {
      "cell_type": "markdown",
      "source": [
        "# Regresión logística y regresión lineal"
      ],
      "metadata": {
        "id": "w5WvH-79S7L3"
      }
    },
    {
      "cell_type": "markdown",
      "source": [
        "## Proyecto de Machine Learning"
      ],
      "metadata": {
        "id": "coLhNySzU4TF"
      }
    },
    {
      "cell_type": "markdown",
      "source": [
        "Los principales pasos que se deben seguir cuando uno comienza un proyeco de machine learning son:\n",
        "\n",
        "1. Ver el _big picture_\n",
        "1. Buscar _insights_ en los datos, explorándolos, visualizándolos\n",
        "1. Preparar los datos para el modelo de machine learning\n",
        "1. Seleccionar un modelo y entrenarlo\n",
        "1. Seguir ajustando el modelo, buscar hiperparámetros\n",
        "1. Presentar la solución"
      ],
      "metadata": {
        "id": "NAnJPy0HViSE"
      }
    },
    {
      "cell_type": "code",
      "source": [
        "# importamos las librerías a usar. Para esta etapa, usaremos pandas\n",
        "import pandas as pd"
      ],
      "metadata": {
        "id": "8myfLrq6W4yU"
      },
      "execution_count": 1,
      "outputs": []
    },
    {
      "cell_type": "markdown",
      "source": [
        "#### ¿Qué es pandas?\n",
        "\n",
        "Es la librería más conocida para manipular datos en Python. El formato más utilizado es el de Dataframe y se podría decir que es el Excel de Python.\n",
        "\n",
        "Pandas también ofrece una serie de herramientas y métodos para manipular y analizar datos de manera eficiente. Esto incluye funciones para realizar operaciones estadísticas básicas, como la agregación y la visualización de datos\n",
        "\n",
        "#### Dataframes\n",
        "\n",
        "La principal característica de Pandas es su estructura de datos de alto nivel, que se conoce como DataFrame. Un DataFrame de Pandas es similar a una hoja de cálculo en un programa como Microsoft Excel, pero tiene capacidades y funcionalidades adicionales que lo hacen muy útil para el análisis de datos.\n"
      ],
      "metadata": {
        "id": "6IuRmZXQXAYm"
      }
    },
    {
      "cell_type": "markdown",
      "source": [
        "Descarguemos los datos usando Git, por ahora sólo ejecuten la siguiente celda."
      ],
      "metadata": {
        "id": "iZnr2Lb3XUc6"
      }
    },
    {
      "cell_type": "markdown",
      "source": [
        "### 0. Obtener los datos"
      ],
      "metadata": {
        "id": "FPiu7-XvDCLf"
      }
    },
    {
      "cell_type": "code",
      "source": [
        "!git clone https://github.com/mnsosa/argentina_programa.git"
      ],
      "metadata": {
        "colab": {
          "base_uri": "https://localhost:8080/"
        },
        "id": "VuPdD-L4DDru",
        "outputId": "575bff26-ca5f-4b2f-883f-e2d5089efc9a"
      },
      "execution_count": 2,
      "outputs": [
        {
          "output_type": "stream",
          "name": "stdout",
          "text": [
            "fatal: destination path 'argentina_programa' already exists and is not an empty directory.\n"
          ]
        }
      ]
    },
    {
      "cell_type": "code",
      "source": [
        "datos_cardiacos = pd.read_csv(\"/content/argentina_programa/datos/heart_failure_clinical_records_dataset.csv\")\n",
        "datos_cardiacos"
      ],
      "metadata": {
        "colab": {
          "base_uri": "https://localhost:8080/",
          "height": 443
        },
        "id": "kFZnJtQmEzzP",
        "outputId": "ff0630e3-c16b-4f7c-cbd1-eece04a81d7a"
      },
      "execution_count": 3,
      "outputs": [
        {
          "output_type": "execute_result",
          "data": {
            "text/plain": [
              "      age  anaemia  creatinine_phosphokinase  diabetes  ejection_fraction  \\\n",
              "0    75.0        0                       582         0                 20   \n",
              "1    55.0        0                      7861         0                 38   \n",
              "2    65.0        0                       146         0                 20   \n",
              "3    50.0        1                       111         0                 20   \n",
              "4    65.0        1                       160         1                 20   \n",
              "..    ...      ...                       ...       ...                ...   \n",
              "294  62.0        0                        61         1                 38   \n",
              "295  55.0        0                      1820         0                 38   \n",
              "296  45.0        0                      2060         1                 60   \n",
              "297  45.0        0                      2413         0                 38   \n",
              "298  50.0        0                       196         0                 45   \n",
              "\n",
              "     high_blood_pressure  platelets  serum_creatinine  serum_sodium  sex  \\\n",
              "0                      1  265000.00               1.9           130    1   \n",
              "1                      0  263358.03               1.1           136    1   \n",
              "2                      0  162000.00               1.3           129    1   \n",
              "3                      0  210000.00               1.9           137    1   \n",
              "4                      0  327000.00               2.7           116    0   \n",
              "..                   ...        ...               ...           ...  ...   \n",
              "294                    1  155000.00               1.1           143    1   \n",
              "295                    0  270000.00               1.2           139    0   \n",
              "296                    0  742000.00               0.8           138    0   \n",
              "297                    0  140000.00               1.4           140    1   \n",
              "298                    0  395000.00               1.6           136    1   \n",
              "\n",
              "     smoking  time  DEATH_EVENT  \n",
              "0          0     4            1  \n",
              "1          0     6            1  \n",
              "2          1     7            1  \n",
              "3          0     7            1  \n",
              "4          0     8            1  \n",
              "..       ...   ...          ...  \n",
              "294        1   270            0  \n",
              "295        0   271            0  \n",
              "296        0   278            0  \n",
              "297        1   280            0  \n",
              "298        1   285            0  \n",
              "\n",
              "[299 rows x 13 columns]"
            ],
            "text/html": [
              "\n",
              "  <div id=\"df-6184168f-0c6b-4595-90a7-6c7658027027\" class=\"colab-df-container\">\n",
              "    <div>\n",
              "<style scoped>\n",
              "    .dataframe tbody tr th:only-of-type {\n",
              "        vertical-align: middle;\n",
              "    }\n",
              "\n",
              "    .dataframe tbody tr th {\n",
              "        vertical-align: top;\n",
              "    }\n",
              "\n",
              "    .dataframe thead th {\n",
              "        text-align: right;\n",
              "    }\n",
              "</style>\n",
              "<table border=\"1\" class=\"dataframe\">\n",
              "  <thead>\n",
              "    <tr style=\"text-align: right;\">\n",
              "      <th></th>\n",
              "      <th>age</th>\n",
              "      <th>anaemia</th>\n",
              "      <th>creatinine_phosphokinase</th>\n",
              "      <th>diabetes</th>\n",
              "      <th>ejection_fraction</th>\n",
              "      <th>high_blood_pressure</th>\n",
              "      <th>platelets</th>\n",
              "      <th>serum_creatinine</th>\n",
              "      <th>serum_sodium</th>\n",
              "      <th>sex</th>\n",
              "      <th>smoking</th>\n",
              "      <th>time</th>\n",
              "      <th>DEATH_EVENT</th>\n",
              "    </tr>\n",
              "  </thead>\n",
              "  <tbody>\n",
              "    <tr>\n",
              "      <th>0</th>\n",
              "      <td>75.0</td>\n",
              "      <td>0</td>\n",
              "      <td>582</td>\n",
              "      <td>0</td>\n",
              "      <td>20</td>\n",
              "      <td>1</td>\n",
              "      <td>265000.00</td>\n",
              "      <td>1.9</td>\n",
              "      <td>130</td>\n",
              "      <td>1</td>\n",
              "      <td>0</td>\n",
              "      <td>4</td>\n",
              "      <td>1</td>\n",
              "    </tr>\n",
              "    <tr>\n",
              "      <th>1</th>\n",
              "      <td>55.0</td>\n",
              "      <td>0</td>\n",
              "      <td>7861</td>\n",
              "      <td>0</td>\n",
              "      <td>38</td>\n",
              "      <td>0</td>\n",
              "      <td>263358.03</td>\n",
              "      <td>1.1</td>\n",
              "      <td>136</td>\n",
              "      <td>1</td>\n",
              "      <td>0</td>\n",
              "      <td>6</td>\n",
              "      <td>1</td>\n",
              "    </tr>\n",
              "    <tr>\n",
              "      <th>2</th>\n",
              "      <td>65.0</td>\n",
              "      <td>0</td>\n",
              "      <td>146</td>\n",
              "      <td>0</td>\n",
              "      <td>20</td>\n",
              "      <td>0</td>\n",
              "      <td>162000.00</td>\n",
              "      <td>1.3</td>\n",
              "      <td>129</td>\n",
              "      <td>1</td>\n",
              "      <td>1</td>\n",
              "      <td>7</td>\n",
              "      <td>1</td>\n",
              "    </tr>\n",
              "    <tr>\n",
              "      <th>3</th>\n",
              "      <td>50.0</td>\n",
              "      <td>1</td>\n",
              "      <td>111</td>\n",
              "      <td>0</td>\n",
              "      <td>20</td>\n",
              "      <td>0</td>\n",
              "      <td>210000.00</td>\n",
              "      <td>1.9</td>\n",
              "      <td>137</td>\n",
              "      <td>1</td>\n",
              "      <td>0</td>\n",
              "      <td>7</td>\n",
              "      <td>1</td>\n",
              "    </tr>\n",
              "    <tr>\n",
              "      <th>4</th>\n",
              "      <td>65.0</td>\n",
              "      <td>1</td>\n",
              "      <td>160</td>\n",
              "      <td>1</td>\n",
              "      <td>20</td>\n",
              "      <td>0</td>\n",
              "      <td>327000.00</td>\n",
              "      <td>2.7</td>\n",
              "      <td>116</td>\n",
              "      <td>0</td>\n",
              "      <td>0</td>\n",
              "      <td>8</td>\n",
              "      <td>1</td>\n",
              "    </tr>\n",
              "    <tr>\n",
              "      <th>...</th>\n",
              "      <td>...</td>\n",
              "      <td>...</td>\n",
              "      <td>...</td>\n",
              "      <td>...</td>\n",
              "      <td>...</td>\n",
              "      <td>...</td>\n",
              "      <td>...</td>\n",
              "      <td>...</td>\n",
              "      <td>...</td>\n",
              "      <td>...</td>\n",
              "      <td>...</td>\n",
              "      <td>...</td>\n",
              "      <td>...</td>\n",
              "    </tr>\n",
              "    <tr>\n",
              "      <th>294</th>\n",
              "      <td>62.0</td>\n",
              "      <td>0</td>\n",
              "      <td>61</td>\n",
              "      <td>1</td>\n",
              "      <td>38</td>\n",
              "      <td>1</td>\n",
              "      <td>155000.00</td>\n",
              "      <td>1.1</td>\n",
              "      <td>143</td>\n",
              "      <td>1</td>\n",
              "      <td>1</td>\n",
              "      <td>270</td>\n",
              "      <td>0</td>\n",
              "    </tr>\n",
              "    <tr>\n",
              "      <th>295</th>\n",
              "      <td>55.0</td>\n",
              "      <td>0</td>\n",
              "      <td>1820</td>\n",
              "      <td>0</td>\n",
              "      <td>38</td>\n",
              "      <td>0</td>\n",
              "      <td>270000.00</td>\n",
              "      <td>1.2</td>\n",
              "      <td>139</td>\n",
              "      <td>0</td>\n",
              "      <td>0</td>\n",
              "      <td>271</td>\n",
              "      <td>0</td>\n",
              "    </tr>\n",
              "    <tr>\n",
              "      <th>296</th>\n",
              "      <td>45.0</td>\n",
              "      <td>0</td>\n",
              "      <td>2060</td>\n",
              "      <td>1</td>\n",
              "      <td>60</td>\n",
              "      <td>0</td>\n",
              "      <td>742000.00</td>\n",
              "      <td>0.8</td>\n",
              "      <td>138</td>\n",
              "      <td>0</td>\n",
              "      <td>0</td>\n",
              "      <td>278</td>\n",
              "      <td>0</td>\n",
              "    </tr>\n",
              "    <tr>\n",
              "      <th>297</th>\n",
              "      <td>45.0</td>\n",
              "      <td>0</td>\n",
              "      <td>2413</td>\n",
              "      <td>0</td>\n",
              "      <td>38</td>\n",
              "      <td>0</td>\n",
              "      <td>140000.00</td>\n",
              "      <td>1.4</td>\n",
              "      <td>140</td>\n",
              "      <td>1</td>\n",
              "      <td>1</td>\n",
              "      <td>280</td>\n",
              "      <td>0</td>\n",
              "    </tr>\n",
              "    <tr>\n",
              "      <th>298</th>\n",
              "      <td>50.0</td>\n",
              "      <td>0</td>\n",
              "      <td>196</td>\n",
              "      <td>0</td>\n",
              "      <td>45</td>\n",
              "      <td>0</td>\n",
              "      <td>395000.00</td>\n",
              "      <td>1.6</td>\n",
              "      <td>136</td>\n",
              "      <td>1</td>\n",
              "      <td>1</td>\n",
              "      <td>285</td>\n",
              "      <td>0</td>\n",
              "    </tr>\n",
              "  </tbody>\n",
              "</table>\n",
              "<p>299 rows × 13 columns</p>\n",
              "</div>\n",
              "    <div class=\"colab-df-buttons\">\n",
              "\n",
              "  <div class=\"colab-df-container\">\n",
              "    <button class=\"colab-df-convert\" onclick=\"convertToInteractive('df-6184168f-0c6b-4595-90a7-6c7658027027')\"\n",
              "            title=\"Convert this dataframe to an interactive table.\"\n",
              "            style=\"display:none;\">\n",
              "\n",
              "  <svg xmlns=\"http://www.w3.org/2000/svg\" height=\"24px\" viewBox=\"0 -960 960 960\">\n",
              "    <path d=\"M120-120v-720h720v720H120Zm60-500h600v-160H180v160Zm220 220h160v-160H400v160Zm0 220h160v-160H400v160ZM180-400h160v-160H180v160Zm440 0h160v-160H620v160ZM180-180h160v-160H180v160Zm440 0h160v-160H620v160Z\"/>\n",
              "  </svg>\n",
              "    </button>\n",
              "\n",
              "  <style>\n",
              "    .colab-df-container {\n",
              "      display:flex;\n",
              "      gap: 12px;\n",
              "    }\n",
              "\n",
              "    .colab-df-convert {\n",
              "      background-color: #E8F0FE;\n",
              "      border: none;\n",
              "      border-radius: 50%;\n",
              "      cursor: pointer;\n",
              "      display: none;\n",
              "      fill: #1967D2;\n",
              "      height: 32px;\n",
              "      padding: 0 0 0 0;\n",
              "      width: 32px;\n",
              "    }\n",
              "\n",
              "    .colab-df-convert:hover {\n",
              "      background-color: #E2EBFA;\n",
              "      box-shadow: 0px 1px 2px rgba(60, 64, 67, 0.3), 0px 1px 3px 1px rgba(60, 64, 67, 0.15);\n",
              "      fill: #174EA6;\n",
              "    }\n",
              "\n",
              "    .colab-df-buttons div {\n",
              "      margin-bottom: 4px;\n",
              "    }\n",
              "\n",
              "    [theme=dark] .colab-df-convert {\n",
              "      background-color: #3B4455;\n",
              "      fill: #D2E3FC;\n",
              "    }\n",
              "\n",
              "    [theme=dark] .colab-df-convert:hover {\n",
              "      background-color: #434B5C;\n",
              "      box-shadow: 0px 1px 3px 1px rgba(0, 0, 0, 0.15);\n",
              "      filter: drop-shadow(0px 1px 2px rgba(0, 0, 0, 0.3));\n",
              "      fill: #FFFFFF;\n",
              "    }\n",
              "  </style>\n",
              "\n",
              "    <script>\n",
              "      const buttonEl =\n",
              "        document.querySelector('#df-6184168f-0c6b-4595-90a7-6c7658027027 button.colab-df-convert');\n",
              "      buttonEl.style.display =\n",
              "        google.colab.kernel.accessAllowed ? 'block' : 'none';\n",
              "\n",
              "      async function convertToInteractive(key) {\n",
              "        const element = document.querySelector('#df-6184168f-0c6b-4595-90a7-6c7658027027');\n",
              "        const dataTable =\n",
              "          await google.colab.kernel.invokeFunction('convertToInteractive',\n",
              "                                                    [key], {});\n",
              "        if (!dataTable) return;\n",
              "\n",
              "        const docLinkHtml = 'Like what you see? Visit the ' +\n",
              "          '<a target=\"_blank\" href=https://colab.research.google.com/notebooks/data_table.ipynb>data table notebook</a>'\n",
              "          + ' to learn more about interactive tables.';\n",
              "        element.innerHTML = '';\n",
              "        dataTable['output_type'] = 'display_data';\n",
              "        await google.colab.output.renderOutput(dataTable, element);\n",
              "        const docLink = document.createElement('div');\n",
              "        docLink.innerHTML = docLinkHtml;\n",
              "        element.appendChild(docLink);\n",
              "      }\n",
              "    </script>\n",
              "  </div>\n",
              "\n",
              "\n",
              "<div id=\"df-707eef0a-dea9-4741-9a09-01988fbb171f\">\n",
              "  <button class=\"colab-df-quickchart\" onclick=\"quickchart('df-707eef0a-dea9-4741-9a09-01988fbb171f')\"\n",
              "            title=\"Suggest charts.\"\n",
              "            style=\"display:none;\">\n",
              "\n",
              "<svg xmlns=\"http://www.w3.org/2000/svg\" height=\"24px\"viewBox=\"0 0 24 24\"\n",
              "     width=\"24px\">\n",
              "    <g>\n",
              "        <path d=\"M19 3H5c-1.1 0-2 .9-2 2v14c0 1.1.9 2 2 2h14c1.1 0 2-.9 2-2V5c0-1.1-.9-2-2-2zM9 17H7v-7h2v7zm4 0h-2V7h2v10zm4 0h-2v-4h2v4z\"/>\n",
              "    </g>\n",
              "</svg>\n",
              "  </button>\n",
              "\n",
              "<style>\n",
              "  .colab-df-quickchart {\n",
              "    background-color: #E8F0FE;\n",
              "    border: none;\n",
              "    border-radius: 50%;\n",
              "    cursor: pointer;\n",
              "    display: none;\n",
              "    fill: #1967D2;\n",
              "    height: 32px;\n",
              "    padding: 0 0 0 0;\n",
              "    width: 32px;\n",
              "  }\n",
              "\n",
              "  .colab-df-quickchart:hover {\n",
              "    background-color: #E2EBFA;\n",
              "    box-shadow: 0px 1px 2px rgba(60, 64, 67, 0.3), 0px 1px 3px 1px rgba(60, 64, 67, 0.15);\n",
              "    fill: #174EA6;\n",
              "  }\n",
              "\n",
              "  [theme=dark] .colab-df-quickchart {\n",
              "    background-color: #3B4455;\n",
              "    fill: #D2E3FC;\n",
              "  }\n",
              "\n",
              "  [theme=dark] .colab-df-quickchart:hover {\n",
              "    background-color: #434B5C;\n",
              "    box-shadow: 0px 1px 3px 1px rgba(0, 0, 0, 0.15);\n",
              "    filter: drop-shadow(0px 1px 2px rgba(0, 0, 0, 0.3));\n",
              "    fill: #FFFFFF;\n",
              "  }\n",
              "</style>\n",
              "\n",
              "  <script>\n",
              "    async function quickchart(key) {\n",
              "      const charts = await google.colab.kernel.invokeFunction(\n",
              "          'suggestCharts', [key], {});\n",
              "    }\n",
              "    (() => {\n",
              "      let quickchartButtonEl =\n",
              "        document.querySelector('#df-707eef0a-dea9-4741-9a09-01988fbb171f button');\n",
              "      quickchartButtonEl.style.display =\n",
              "        google.colab.kernel.accessAllowed ? 'block' : 'none';\n",
              "    })();\n",
              "  </script>\n",
              "</div>\n",
              "    </div>\n",
              "  </div>\n"
            ]
          },
          "metadata": {},
          "execution_count": 3
        }
      ]
    },
    {
      "cell_type": "markdown",
      "source": [
        "#### Cuestiones básicas de Pandas 🐼"
      ],
      "metadata": {
        "id": "ZU4zTNq-sWss"
      }
    },
    {
      "cell_type": "code",
      "source": [
        "# veamos el tipo de dato\n",
        "type(datos_cardiacos)"
      ],
      "metadata": {
        "colab": {
          "base_uri": "https://localhost:8080/"
        },
        "id": "SOCUCx3EU-kC",
        "outputId": "bdbb6fcc-3b71-47a3-c87e-ec3830ed388e"
      },
      "execution_count": 4,
      "outputs": [
        {
          "output_type": "execute_result",
          "data": {
            "text/plain": [
              "pandas.core.frame.DataFrame"
            ]
          },
          "metadata": {},
          "execution_count": 4
        }
      ]
    },
    {
      "cell_type": "code",
      "source": [
        "# obtener una columna del dataframe\n",
        "datos_cardiacos[\"age\"]"
      ],
      "metadata": {
        "colab": {
          "base_uri": "https://localhost:8080/"
        },
        "id": "Vvr1SjreU7Ul",
        "outputId": "28663f85-2425-4cf3-be63-786bcb1e1fd6"
      },
      "execution_count": 5,
      "outputs": [
        {
          "output_type": "execute_result",
          "data": {
            "text/plain": [
              "0      75.0\n",
              "1      55.0\n",
              "2      65.0\n",
              "3      50.0\n",
              "4      65.0\n",
              "       ... \n",
              "294    62.0\n",
              "295    55.0\n",
              "296    45.0\n",
              "297    45.0\n",
              "298    50.0\n",
              "Name: age, Length: 299, dtype: float64"
            ]
          },
          "metadata": {},
          "execution_count": 5
        }
      ]
    },
    {
      "cell_type": "code",
      "source": [
        "# contar valores de una columna\n",
        "datos_cardiacos[\"anaemia\"].value_counts()"
      ],
      "metadata": {
        "colab": {
          "base_uri": "https://localhost:8080/"
        },
        "id": "VrlyBiSxVEsU",
        "outputId": "f6f9eaab-e9fd-4543-9123-466d455635b2"
      },
      "execution_count": 6,
      "outputs": [
        {
          "output_type": "execute_result",
          "data": {
            "text/plain": [
              "0    170\n",
              "1    129\n",
              "Name: anaemia, dtype: int64"
            ]
          },
          "metadata": {},
          "execution_count": 6
        }
      ]
    },
    {
      "cell_type": "code",
      "source": [
        "datos_cardiacos[\"diabetes\"].value_counts()"
      ],
      "metadata": {
        "colab": {
          "base_uri": "https://localhost:8080/"
        },
        "id": "Si-kIOnOVLiy",
        "outputId": "c06beb59-6b5e-4ea2-ad36-acc6c5094c0f"
      },
      "execution_count": 7,
      "outputs": [
        {
          "output_type": "execute_result",
          "data": {
            "text/plain": [
              "0    174\n",
              "1    125\n",
              "Name: diabetes, dtype: int64"
            ]
          },
          "metadata": {},
          "execution_count": 7
        }
      ]
    },
    {
      "cell_type": "code",
      "source": [
        "datos_cardiacos.info()"
      ],
      "metadata": {
        "colab": {
          "base_uri": "https://localhost:8080/"
        },
        "id": "uWgh5Hc9XDyU",
        "outputId": "730a58df-656c-4f2c-f5f2-954bcf7a8572"
      },
      "execution_count": 8,
      "outputs": [
        {
          "output_type": "stream",
          "name": "stdout",
          "text": [
            "<class 'pandas.core.frame.DataFrame'>\n",
            "RangeIndex: 299 entries, 0 to 298\n",
            "Data columns (total 13 columns):\n",
            " #   Column                    Non-Null Count  Dtype  \n",
            "---  ------                    --------------  -----  \n",
            " 0   age                       299 non-null    float64\n",
            " 1   anaemia                   299 non-null    int64  \n",
            " 2   creatinine_phosphokinase  299 non-null    int64  \n",
            " 3   diabetes                  299 non-null    int64  \n",
            " 4   ejection_fraction         299 non-null    int64  \n",
            " 5   high_blood_pressure       299 non-null    int64  \n",
            " 6   platelets                 299 non-null    float64\n",
            " 7   serum_creatinine          299 non-null    float64\n",
            " 8   serum_sodium              299 non-null    int64  \n",
            " 9   sex                       299 non-null    int64  \n",
            " 10  smoking                   299 non-null    int64  \n",
            " 11  time                      299 non-null    int64  \n",
            " 12  DEATH_EVENT               299 non-null    int64  \n",
            "dtypes: float64(3), int64(10)\n",
            "memory usage: 30.5 KB\n"
          ]
        }
      ]
    },
    {
      "cell_type": "code",
      "source": [
        "# da verdadero o falso según ambas columnas sean iguales\n",
        "# (o no tienen nada o tienen ambos)\n",
        "datos_cardiacos[\"anaemia\"] == datos_cardiacos[\"diabetes\"]\n",
        "# a esto se le llama \"máscara\", se refiere a una serie booleana"
      ],
      "metadata": {
        "colab": {
          "base_uri": "https://localhost:8080/"
        },
        "id": "utWaSjVUVRQT",
        "outputId": "4b69fed8-ea5e-40a1-ecad-09f552215e65"
      },
      "execution_count": 9,
      "outputs": [
        {
          "output_type": "execute_result",
          "data": {
            "text/plain": [
              "0       True\n",
              "1       True\n",
              "2       True\n",
              "3      False\n",
              "4       True\n",
              "       ...  \n",
              "294    False\n",
              "295     True\n",
              "296    False\n",
              "297     True\n",
              "298     True\n",
              "Length: 299, dtype: bool"
            ]
          },
          "metadata": {},
          "execution_count": 9
        }
      ]
    },
    {
      "cell_type": "code",
      "source": [
        "# las máscaras pueden usarse para filtrar filas de un dataframe según\n",
        "# sean 0 o 1 los valores de la máscara (solo toma las filas donde hay 1)\n",
        "\n",
        "mascara = datos_cardiacos[\"anaemia\"] == datos_cardiacos[\"diabetes\"]\n",
        "\n",
        "datos_cardiacos[mascara]"
      ],
      "metadata": {
        "colab": {
          "base_uri": "https://localhost:8080/",
          "height": 443
        },
        "id": "uzr8ZuDxWFad",
        "outputId": "28837673-9227-4adc-db7a-d73fa0c7fd6e"
      },
      "execution_count": 10,
      "outputs": [
        {
          "output_type": "execute_result",
          "data": {
            "text/plain": [
              "      age  anaemia  creatinine_phosphokinase  diabetes  ejection_fraction  \\\n",
              "0    75.0        0                       582         0                 20   \n",
              "1    55.0        0                      7861         0                 38   \n",
              "2    65.0        0                       146         0                 20   \n",
              "4    65.0        1                       160         1                 20   \n",
              "7    60.0        1                       315         1                 60   \n",
              "..    ...      ...                       ...       ...                ...   \n",
              "291  60.0        0                       320         0                 35   \n",
              "293  63.0        1                       103         1                 35   \n",
              "295  55.0        0                      1820         0                 38   \n",
              "297  45.0        0                      2413         0                 38   \n",
              "298  50.0        0                       196         0                 45   \n",
              "\n",
              "     high_blood_pressure  platelets  serum_creatinine  serum_sodium  sex  \\\n",
              "0                      1  265000.00               1.9           130    1   \n",
              "1                      0  263358.03               1.1           136    1   \n",
              "2                      0  162000.00               1.3           129    1   \n",
              "4                      0  327000.00               2.7           116    0   \n",
              "7                      0  454000.00               1.1           131    1   \n",
              "..                   ...        ...               ...           ...  ...   \n",
              "291                    0  133000.00               1.4           139    1   \n",
              "293                    0  179000.00               0.9           136    1   \n",
              "295                    0  270000.00               1.2           139    0   \n",
              "297                    0  140000.00               1.4           140    1   \n",
              "298                    0  395000.00               1.6           136    1   \n",
              "\n",
              "     smoking  time  DEATH_EVENT  \n",
              "0          0     4            1  \n",
              "1          0     6            1  \n",
              "2          1     7            1  \n",
              "4          0     8            1  \n",
              "7          1    10            1  \n",
              "..       ...   ...          ...  \n",
              "291        0   258            0  \n",
              "293        1   270            0  \n",
              "295        0   271            0  \n",
              "297        1   280            0  \n",
              "298        1   285            0  \n",
              "\n",
              "[151 rows x 13 columns]"
            ],
            "text/html": [
              "\n",
              "  <div id=\"df-f1dce252-62cf-4e96-beda-87b7a328bdf6\" class=\"colab-df-container\">\n",
              "    <div>\n",
              "<style scoped>\n",
              "    .dataframe tbody tr th:only-of-type {\n",
              "        vertical-align: middle;\n",
              "    }\n",
              "\n",
              "    .dataframe tbody tr th {\n",
              "        vertical-align: top;\n",
              "    }\n",
              "\n",
              "    .dataframe thead th {\n",
              "        text-align: right;\n",
              "    }\n",
              "</style>\n",
              "<table border=\"1\" class=\"dataframe\">\n",
              "  <thead>\n",
              "    <tr style=\"text-align: right;\">\n",
              "      <th></th>\n",
              "      <th>age</th>\n",
              "      <th>anaemia</th>\n",
              "      <th>creatinine_phosphokinase</th>\n",
              "      <th>diabetes</th>\n",
              "      <th>ejection_fraction</th>\n",
              "      <th>high_blood_pressure</th>\n",
              "      <th>platelets</th>\n",
              "      <th>serum_creatinine</th>\n",
              "      <th>serum_sodium</th>\n",
              "      <th>sex</th>\n",
              "      <th>smoking</th>\n",
              "      <th>time</th>\n",
              "      <th>DEATH_EVENT</th>\n",
              "    </tr>\n",
              "  </thead>\n",
              "  <tbody>\n",
              "    <tr>\n",
              "      <th>0</th>\n",
              "      <td>75.0</td>\n",
              "      <td>0</td>\n",
              "      <td>582</td>\n",
              "      <td>0</td>\n",
              "      <td>20</td>\n",
              "      <td>1</td>\n",
              "      <td>265000.00</td>\n",
              "      <td>1.9</td>\n",
              "      <td>130</td>\n",
              "      <td>1</td>\n",
              "      <td>0</td>\n",
              "      <td>4</td>\n",
              "      <td>1</td>\n",
              "    </tr>\n",
              "    <tr>\n",
              "      <th>1</th>\n",
              "      <td>55.0</td>\n",
              "      <td>0</td>\n",
              "      <td>7861</td>\n",
              "      <td>0</td>\n",
              "      <td>38</td>\n",
              "      <td>0</td>\n",
              "      <td>263358.03</td>\n",
              "      <td>1.1</td>\n",
              "      <td>136</td>\n",
              "      <td>1</td>\n",
              "      <td>0</td>\n",
              "      <td>6</td>\n",
              "      <td>1</td>\n",
              "    </tr>\n",
              "    <tr>\n",
              "      <th>2</th>\n",
              "      <td>65.0</td>\n",
              "      <td>0</td>\n",
              "      <td>146</td>\n",
              "      <td>0</td>\n",
              "      <td>20</td>\n",
              "      <td>0</td>\n",
              "      <td>162000.00</td>\n",
              "      <td>1.3</td>\n",
              "      <td>129</td>\n",
              "      <td>1</td>\n",
              "      <td>1</td>\n",
              "      <td>7</td>\n",
              "      <td>1</td>\n",
              "    </tr>\n",
              "    <tr>\n",
              "      <th>4</th>\n",
              "      <td>65.0</td>\n",
              "      <td>1</td>\n",
              "      <td>160</td>\n",
              "      <td>1</td>\n",
              "      <td>20</td>\n",
              "      <td>0</td>\n",
              "      <td>327000.00</td>\n",
              "      <td>2.7</td>\n",
              "      <td>116</td>\n",
              "      <td>0</td>\n",
              "      <td>0</td>\n",
              "      <td>8</td>\n",
              "      <td>1</td>\n",
              "    </tr>\n",
              "    <tr>\n",
              "      <th>7</th>\n",
              "      <td>60.0</td>\n",
              "      <td>1</td>\n",
              "      <td>315</td>\n",
              "      <td>1</td>\n",
              "      <td>60</td>\n",
              "      <td>0</td>\n",
              "      <td>454000.00</td>\n",
              "      <td>1.1</td>\n",
              "      <td>131</td>\n",
              "      <td>1</td>\n",
              "      <td>1</td>\n",
              "      <td>10</td>\n",
              "      <td>1</td>\n",
              "    </tr>\n",
              "    <tr>\n",
              "      <th>...</th>\n",
              "      <td>...</td>\n",
              "      <td>...</td>\n",
              "      <td>...</td>\n",
              "      <td>...</td>\n",
              "      <td>...</td>\n",
              "      <td>...</td>\n",
              "      <td>...</td>\n",
              "      <td>...</td>\n",
              "      <td>...</td>\n",
              "      <td>...</td>\n",
              "      <td>...</td>\n",
              "      <td>...</td>\n",
              "      <td>...</td>\n",
              "    </tr>\n",
              "    <tr>\n",
              "      <th>291</th>\n",
              "      <td>60.0</td>\n",
              "      <td>0</td>\n",
              "      <td>320</td>\n",
              "      <td>0</td>\n",
              "      <td>35</td>\n",
              "      <td>0</td>\n",
              "      <td>133000.00</td>\n",
              "      <td>1.4</td>\n",
              "      <td>139</td>\n",
              "      <td>1</td>\n",
              "      <td>0</td>\n",
              "      <td>258</td>\n",
              "      <td>0</td>\n",
              "    </tr>\n",
              "    <tr>\n",
              "      <th>293</th>\n",
              "      <td>63.0</td>\n",
              "      <td>1</td>\n",
              "      <td>103</td>\n",
              "      <td>1</td>\n",
              "      <td>35</td>\n",
              "      <td>0</td>\n",
              "      <td>179000.00</td>\n",
              "      <td>0.9</td>\n",
              "      <td>136</td>\n",
              "      <td>1</td>\n",
              "      <td>1</td>\n",
              "      <td>270</td>\n",
              "      <td>0</td>\n",
              "    </tr>\n",
              "    <tr>\n",
              "      <th>295</th>\n",
              "      <td>55.0</td>\n",
              "      <td>0</td>\n",
              "      <td>1820</td>\n",
              "      <td>0</td>\n",
              "      <td>38</td>\n",
              "      <td>0</td>\n",
              "      <td>270000.00</td>\n",
              "      <td>1.2</td>\n",
              "      <td>139</td>\n",
              "      <td>0</td>\n",
              "      <td>0</td>\n",
              "      <td>271</td>\n",
              "      <td>0</td>\n",
              "    </tr>\n",
              "    <tr>\n",
              "      <th>297</th>\n",
              "      <td>45.0</td>\n",
              "      <td>0</td>\n",
              "      <td>2413</td>\n",
              "      <td>0</td>\n",
              "      <td>38</td>\n",
              "      <td>0</td>\n",
              "      <td>140000.00</td>\n",
              "      <td>1.4</td>\n",
              "      <td>140</td>\n",
              "      <td>1</td>\n",
              "      <td>1</td>\n",
              "      <td>280</td>\n",
              "      <td>0</td>\n",
              "    </tr>\n",
              "    <tr>\n",
              "      <th>298</th>\n",
              "      <td>50.0</td>\n",
              "      <td>0</td>\n",
              "      <td>196</td>\n",
              "      <td>0</td>\n",
              "      <td>45</td>\n",
              "      <td>0</td>\n",
              "      <td>395000.00</td>\n",
              "      <td>1.6</td>\n",
              "      <td>136</td>\n",
              "      <td>1</td>\n",
              "      <td>1</td>\n",
              "      <td>285</td>\n",
              "      <td>0</td>\n",
              "    </tr>\n",
              "  </tbody>\n",
              "</table>\n",
              "<p>151 rows × 13 columns</p>\n",
              "</div>\n",
              "    <div class=\"colab-df-buttons\">\n",
              "\n",
              "  <div class=\"colab-df-container\">\n",
              "    <button class=\"colab-df-convert\" onclick=\"convertToInteractive('df-f1dce252-62cf-4e96-beda-87b7a328bdf6')\"\n",
              "            title=\"Convert this dataframe to an interactive table.\"\n",
              "            style=\"display:none;\">\n",
              "\n",
              "  <svg xmlns=\"http://www.w3.org/2000/svg\" height=\"24px\" viewBox=\"0 -960 960 960\">\n",
              "    <path d=\"M120-120v-720h720v720H120Zm60-500h600v-160H180v160Zm220 220h160v-160H400v160Zm0 220h160v-160H400v160ZM180-400h160v-160H180v160Zm440 0h160v-160H620v160ZM180-180h160v-160H180v160Zm440 0h160v-160H620v160Z\"/>\n",
              "  </svg>\n",
              "    </button>\n",
              "\n",
              "  <style>\n",
              "    .colab-df-container {\n",
              "      display:flex;\n",
              "      gap: 12px;\n",
              "    }\n",
              "\n",
              "    .colab-df-convert {\n",
              "      background-color: #E8F0FE;\n",
              "      border: none;\n",
              "      border-radius: 50%;\n",
              "      cursor: pointer;\n",
              "      display: none;\n",
              "      fill: #1967D2;\n",
              "      height: 32px;\n",
              "      padding: 0 0 0 0;\n",
              "      width: 32px;\n",
              "    }\n",
              "\n",
              "    .colab-df-convert:hover {\n",
              "      background-color: #E2EBFA;\n",
              "      box-shadow: 0px 1px 2px rgba(60, 64, 67, 0.3), 0px 1px 3px 1px rgba(60, 64, 67, 0.15);\n",
              "      fill: #174EA6;\n",
              "    }\n",
              "\n",
              "    .colab-df-buttons div {\n",
              "      margin-bottom: 4px;\n",
              "    }\n",
              "\n",
              "    [theme=dark] .colab-df-convert {\n",
              "      background-color: #3B4455;\n",
              "      fill: #D2E3FC;\n",
              "    }\n",
              "\n",
              "    [theme=dark] .colab-df-convert:hover {\n",
              "      background-color: #434B5C;\n",
              "      box-shadow: 0px 1px 3px 1px rgba(0, 0, 0, 0.15);\n",
              "      filter: drop-shadow(0px 1px 2px rgba(0, 0, 0, 0.3));\n",
              "      fill: #FFFFFF;\n",
              "    }\n",
              "  </style>\n",
              "\n",
              "    <script>\n",
              "      const buttonEl =\n",
              "        document.querySelector('#df-f1dce252-62cf-4e96-beda-87b7a328bdf6 button.colab-df-convert');\n",
              "      buttonEl.style.display =\n",
              "        google.colab.kernel.accessAllowed ? 'block' : 'none';\n",
              "\n",
              "      async function convertToInteractive(key) {\n",
              "        const element = document.querySelector('#df-f1dce252-62cf-4e96-beda-87b7a328bdf6');\n",
              "        const dataTable =\n",
              "          await google.colab.kernel.invokeFunction('convertToInteractive',\n",
              "                                                    [key], {});\n",
              "        if (!dataTable) return;\n",
              "\n",
              "        const docLinkHtml = 'Like what you see? Visit the ' +\n",
              "          '<a target=\"_blank\" href=https://colab.research.google.com/notebooks/data_table.ipynb>data table notebook</a>'\n",
              "          + ' to learn more about interactive tables.';\n",
              "        element.innerHTML = '';\n",
              "        dataTable['output_type'] = 'display_data';\n",
              "        await google.colab.output.renderOutput(dataTable, element);\n",
              "        const docLink = document.createElement('div');\n",
              "        docLink.innerHTML = docLinkHtml;\n",
              "        element.appendChild(docLink);\n",
              "      }\n",
              "    </script>\n",
              "  </div>\n",
              "\n",
              "\n",
              "<div id=\"df-86f0a6fb-1af3-4309-a991-dfb4c27ffee9\">\n",
              "  <button class=\"colab-df-quickchart\" onclick=\"quickchart('df-86f0a6fb-1af3-4309-a991-dfb4c27ffee9')\"\n",
              "            title=\"Suggest charts.\"\n",
              "            style=\"display:none;\">\n",
              "\n",
              "<svg xmlns=\"http://www.w3.org/2000/svg\" height=\"24px\"viewBox=\"0 0 24 24\"\n",
              "     width=\"24px\">\n",
              "    <g>\n",
              "        <path d=\"M19 3H5c-1.1 0-2 .9-2 2v14c0 1.1.9 2 2 2h14c1.1 0 2-.9 2-2V5c0-1.1-.9-2-2-2zM9 17H7v-7h2v7zm4 0h-2V7h2v10zm4 0h-2v-4h2v4z\"/>\n",
              "    </g>\n",
              "</svg>\n",
              "  </button>\n",
              "\n",
              "<style>\n",
              "  .colab-df-quickchart {\n",
              "    background-color: #E8F0FE;\n",
              "    border: none;\n",
              "    border-radius: 50%;\n",
              "    cursor: pointer;\n",
              "    display: none;\n",
              "    fill: #1967D2;\n",
              "    height: 32px;\n",
              "    padding: 0 0 0 0;\n",
              "    width: 32px;\n",
              "  }\n",
              "\n",
              "  .colab-df-quickchart:hover {\n",
              "    background-color: #E2EBFA;\n",
              "    box-shadow: 0px 1px 2px rgba(60, 64, 67, 0.3), 0px 1px 3px 1px rgba(60, 64, 67, 0.15);\n",
              "    fill: #174EA6;\n",
              "  }\n",
              "\n",
              "  [theme=dark] .colab-df-quickchart {\n",
              "    background-color: #3B4455;\n",
              "    fill: #D2E3FC;\n",
              "  }\n",
              "\n",
              "  [theme=dark] .colab-df-quickchart:hover {\n",
              "    background-color: #434B5C;\n",
              "    box-shadow: 0px 1px 3px 1px rgba(0, 0, 0, 0.15);\n",
              "    filter: drop-shadow(0px 1px 2px rgba(0, 0, 0, 0.3));\n",
              "    fill: #FFFFFF;\n",
              "  }\n",
              "</style>\n",
              "\n",
              "  <script>\n",
              "    async function quickchart(key) {\n",
              "      const charts = await google.colab.kernel.invokeFunction(\n",
              "          'suggestCharts', [key], {});\n",
              "    }\n",
              "    (() => {\n",
              "      let quickchartButtonEl =\n",
              "        document.querySelector('#df-86f0a6fb-1af3-4309-a991-dfb4c27ffee9 button');\n",
              "      quickchartButtonEl.style.display =\n",
              "        google.colab.kernel.accessAllowed ? 'block' : 'none';\n",
              "    })();\n",
              "  </script>\n",
              "</div>\n",
              "    </div>\n",
              "  </div>\n"
            ]
          },
          "metadata": {},
          "execution_count": 10
        }
      ]
    },
    {
      "cell_type": "code",
      "source": [
        "datos_cardiacos[mascara][\"anaemia\"].value_counts()"
      ],
      "metadata": {
        "colab": {
          "base_uri": "https://localhost:8080/"
        },
        "id": "Ce6fbhFfXbOe",
        "outputId": "11585070-68ff-4154-88f5-d378f2b4003c"
      },
      "execution_count": 11,
      "outputs": [
        {
          "output_type": "execute_result",
          "data": {
            "text/plain": [
              "0    98\n",
              "1    53\n",
              "Name: anaemia, dtype: int64"
            ]
          },
          "metadata": {},
          "execution_count": 11
        }
      ]
    },
    {
      "cell_type": "code",
      "source": [
        "# cuántos tienen presión cardíaca alta?\n",
        "datos_cardiacos[\"high_blood_pressure\"].value_counts()"
      ],
      "metadata": {
        "colab": {
          "base_uri": "https://localhost:8080/"
        },
        "id": "g_EuiFuGZSQT",
        "outputId": "fea27af1-c29c-4282-9994-4504a8c20151"
      },
      "execution_count": 12,
      "outputs": [
        {
          "output_type": "execute_result",
          "data": {
            "text/plain": [
              "0    194\n",
              "1    105\n",
              "Name: high_blood_pressure, dtype: int64"
            ]
          },
          "metadata": {},
          "execution_count": 12
        }
      ]
    },
    {
      "cell_type": "markdown",
      "source": [
        "## Regresión logística (clasificación)"
      ],
      "metadata": {
        "id": "jSax4vxSb8XP"
      }
    },
    {
      "cell_type": "markdown",
      "source": [
        "### 1. Tratamiento de datos"
      ],
      "metadata": {
        "id": "puntsWDutDw3"
      }
    },
    {
      "cell_type": "markdown",
      "source": [
        "Hay que elegir qué variable predecir y con qué entradas.\n",
        "\n",
        "En este ejemplo, claro está que podríamos predecir si una persona murió o no según los datos.\n",
        "\n",
        "Propongo\n",
        "- Salida: si murió\n",
        "- Entrada: datos de salud de la persona"
      ],
      "metadata": {
        "id": "1c_540xBvAAQ"
      }
    },
    {
      "cell_type": "markdown",
      "source": [
        "![arg programa.png](data:image/png;base64,iVBORw0KGgoAAAANSUhEUgAAB1cAAAEbCAMAAACxwP1+AAAAIGNIUk0AAHomAACAhAAA+gAAAIDoAAB1MAAA6mAAADqYAAAXcJy6UTwAAADtUExURSElLCMnLTI1O0hLUFFTWEBDSCYqMSwvNlpcYJCRkqmpqZycnW5wc4SFh2RmaXl6fb2+v8nMztre4MPFx8/S1La3uDk8QrCwsePo6/P5/fX7//H3+9TY2uvw9O709+fs797j5uju8+Lo7cDGzV9lcpOZo4eNl9LY3rW7w9rg5vL4/O70+G1zf6qwucnP1nqAi5+lrictLE5gLy01LUVULzQ+Lb3xOZO6NaDMNmN7MYapNK7dN26JMjxJLnmZMyMoLKqxm5/FQKS8aVhtMJm6S1VZVpS1RFlgVVxoS7PjOXuGaKy2kqK/XJe+Of///6TpLPMAAAABYktHRE4ZYXHfAAAACXBIWXMAAC4jAAAuIwF4pT92AAAAB3RJTUUH5wgVDzIJD9LGHgAAPEJJREFUeNrtnQm327iVrctz2bdsl6e4rKpUQlKcJyWdVCf9Xqf7zfP//zuPmAGS0oVESgSg/a2VlMxJuoJ4Ng4InP3ddwAAAAAAAAAAAAAAAAAAAAAAAAAAAAAAAAAAAAAAAAAAAAAAAAAAAAAAAAAAAAAAAAAAAAAAAAAAAAAAAAAAAAAAAAAAAAAAAAAAAAAAAAAAAAAAAAAAAAAAAAAAAAAAAAAAAAAAAAAAAAAAAAAAAAAAAAAAAADAGTx5+ux5uLx4+mTrL/jqvHy69bf8GM+ePt36S7o+Qd9HS3jx9OXWbXN1EEWBxqvvX78JnYfnAf8onrz44WHrL9iOt88Cjq5PXrzzpBm24eH7gBsfURQYPH2/dWvd6DfxbOtv+kq8erf1V3sW70PNWp9v/c16wLtQ4zKiKNB5cie/B0KQAf3JD1t/rWfzLsS05dXbrb9WL3gbYtsjigKTV2Ls4scPH8Pl0yf6N77e+tu+As/kyOOnz1t/zY/w4dMX/lEffrf117Y6L3k7fA35PloCvwffPLzauqnWB1EUGDxl0eDHn77twubnz+TvfL719706fAj46y+/3/obtuLXX7i0fr/1F7cyT2i2+vXzH7b+hh3m20fa+G+3bqvVQRQFBqyT/eWnrdvrFnwgf2pog1BMVr1qwJ+Ysr7b+qu7QkN8+nnrL9dxvv0YYlxGFAUm9KnAh9B7WYyfvwZ3S7Mk6c1Hzxrwl/CE9SXNVzxrhw34RocSA5u7hCgKDOgExs9bN9Wt+Dj8sT9s/ZWvyvd07PHXrb/Ys/nD19DSFtISX+4jsi6DxuUXWzfXqiCKAhMyfvHj1g11M34//LXvt/7K1+Spp7K62/1KhTWgyUvkTvq49bfqBZ9DG6pAFAUmL3wNy/hFEJ689rf9qLC+DmY8kA4DI1214Q9kSvDW7bUmiKLA5P09jV+E94ugo8C+zj/9KahJwWTk4NPWX6knfA1sCSSiKDCgnez76Wjt/hjWL4I234etv9SLCWpi4QvoqjWk4QOq2YMoCkyekbkWWzfTDfkc1lwZsrLjq79jj9++BvSg7Tker1rzMazbEFEUmPxwZ8HgS1BTZWg/2efmI/H1TSC1d6Cr9gSmq4iiwOTOBjB+DWvl3HvfV3Z8+xLOiBJ01Z7AdBVRFBiQuRZft26mGxLWgwG6xsbvCi8/hVPEG7pqT1i6iigKTJ57Pe3lfD4EdT+/D+CxTjgJK3TVnrB0FVEUmJAaeH/cupluSFDz+wNIV9lSxjCe1UBX7QlLVxFFgcETEtTuqE7474Naj/46iIUdn0JxnYKu2hOUriKKApPfBTCQeA5B1bUk6yXf+OEMdwpylwZRLBa6ak9QuoooCky+v68yITQ3CmY5ehjpajgJK3TVnqB0FVEUmLwO4AHdGXwLaLUkXYseQLrKZ+0HEGShq/YEpauIosDg3iqF/yGQzIjw5CGYXjKp3vLg/3I46Ko9IekqoigweXFX5kbMSzukqnmBTJb4OYyEFbpqT0i6iigKTEh12V+2bqYb8mMgM2S+CypdDSVhha7aE5KuIooCkwePPcYu4OeA3FNowf0w0tVQyu9DV+0JSVcRRYHBK/INbd1MN4TUzHu79Ze+Dt4X3Df5GMK9Cl21JyBdRRQFJs8CWahhy+dwXLQ994cbE0TCCl21JyBdRRQFJnA38pVXYaWrYfjFQVftCUhXEUWBCdyNfCWEgvsmAZTfh67aE5CuIooCA7gb+UoQBfdNAvCLg67aE46uIooCE7gb+Up46WoICSt01Z5wdBVRFJjA3chTSJ3v4Gb2+19+H7pqTzi6iigKDOBu5CuhFNw38b78PnTVnmB0FVEUmMDdyFMC8Ycb433CCl21JxhdRRQFJnA38pQw01WesHo80xC6ak8wuoooCkzgbuQnz0Od2O97+X3oqj3B6CqiKDCAu5GfBFVw38Tz8vvQVXtC0VVEUWACdyM/8c0fLorj2PJQzxNW6Ko9oegqoigwgbuRlzifrib7far9M97v95ntueSuffC2/D501Z5QdBVRFJg8BDmp9CihuBsdLbifp4IiKavtvmhTV+tmv2+tP43f5fehq/aEoquIosAA7kZectwfbtAzjcx27HV1TF1N9/vkjJO99ouDrtoTiK4iigITuBt5yXF/OFNX9/tioy+6juNI/qPb7/NzTvY6YYWu2hOIriKKApP3d1Z+Kwx3oxP+cDJPjOO8J8Labf2V73ZV00TnnfFHj8vvQ1ftCURXEUWBSaiLII8QiLvRiYL7xvhr3Oz3Tb31l34JHpffh67aE4iuIooCA7gb+cgpfzjzuWY7JKzkEWsUx/Wu6hL+kLOOkzYpZQ457K2GjXlR6DOdhsOLNsmFLFd0YDdOknhur7guvRJ/Gckzu+HQ2LzQru4mp2t47BcHXbUnDF1FFAUm38PdyENO+cOZulrygWAyb4jMyd2TjVXLn702fFbTsLeserat5WfKg/YtE7+YXPiwZxOQtL2VeK+YXaFJRp+jbPihh0pdKOcHH33s+sXbqRHQVXvC0FVEUWDy9r7Kb4XhbnTSH260bpTrINFVKoXD6yhTs5qYrA17C7mRqV+lHcTWnZIVqOR/5Hr6XvFuUmmZNMvPcVCH9hG/UBbLbccmLPtbfh+6ak8YuoooCgzgbuQjJwvuT/NVrquDvrUJf71v42jXNULWUqqeZV2VmZjo1BGFjXdV14s5xUQK031Kx4ELeoldnfRSm8k85CTalS0XVvE5cr7ap+6EQpMLNcOxVZ5q+fEEb/3ioKv2BKGriKLABO5GHnLaH27++SpRsEaO53Ixq4na7vjerCKvSCJKxW/4b0O3kHwzFeeJVTuDnPbsVcb3RlJgyVvW6nP04tJUYWNxoVIee+wP8TZhha7aE4SuIooCk3eOF8NbmyDcjU77w03nA1c7ppx8ztJBHRAxCaR7+SSjnG9KipQv0Cm59hE57MWbtGkpj6cbW1mmsGYpL/8cubr0jsu4diF974QPnpbfh67aE4SuIooCk9cnHtQFSBDuRo/4wyldjcp0L+SUvKrYZn1JayNHiYViVpNHnrGmq9OaSWJvoypQRLX2ORJ1aTq2zE/hx0YnHrB6W34fumpPELqKKAoM4G7kH48V3B/VW2pYXqmU0xDOg9RVmeM2mnpW8UCn6aqhgcbeiUByXT1oFZ9ipas8292d0lVf/eKgq/aEoKuIosAE7kb+8Zg/nKmrfGmLlsXGpu5S1Us18ZOVfLu0kQeJE9WYbZLu9b3RMV3VCwPzK4gUl7A/VTfY04QVumpPCLqKKApMfoC7kW+8fHikzQY9a5ifTdKJGg2ndHUsfvx1lOoHiRPFQfpSHZmDzuqqnv7y7NRaVz0tvw9dtScEXUUUBSZwN/KO4wX3OaP1q2orz0jp081EQSbxzugqldySCHM81dVqsrc6pquZdul6VldPFOT3s/w+dNWeEHQVURQYwN3IO477wwmO6ipfKDo3VSjVlpEyXY2V4M3oaq6uIWYLN5bjwNVEV0852XmZsEJX7QlAVxFFgQncjbzj0XT1uK6KrfO6Ks9hk4qK/b7hG/KprqpFNfRxLr9EN/eOCV8iSyjVmPHu+IfRoQmrb0vloKv2BKCriKLABO5GvkEL7p9uskd1tZnWONJW4fB0Vstg+6muag9NxV5NP7N9o9avdurSRI773Vm66mX5feiqPQHoKqIoMIG7kW+cKrjPeVRXE6V0dZMV5GWqRn35etNUZqSdKOKryWEmRZTuJetVazlbmA8h83esGpnIVlyOz9FVH/3ioKv2BKCriKLAAO5GvnHKH07wqK4Secto6QZZtJBWORQ18ekEp0IIXrJv9hM5PHAxHQ5rhCQP2/pqx4ojkhJP4h0TcUAlSiOepaseJqzQVXv811VEUWACdyPfsEhXH9dVmmM2h4SuQKVSSLPTPSmpfxA+6BFd/Jq0/aC3RA8PuS6HMds7HN1Ewxn9sJeWTBwuQRfg5No71mx71/ZiTc1Zukpn9fs1TQK6ao//uoooCkzgbuQZpwvucx7XVWWIypNUOmm3MzfJ8hI5G+tNDTks1MGFWAQbyasWxjsqTzle++k8XfWv/D501R7/dRVRFBjA3cg3XtvMPMzTtHhsa1XQWkp9whxu2GKYnGSUWSFKKsW0MMSBqF6ZDtt3UZpq0kz3Usfzju5lVyUXPdTjd+zSnhSrKPi76RcaXh6tu8/xzi8OumqP97qKKApM4G7kGVbpqjVVpV6LRab6toH65AUi643kyqevdQqasPpknwFdtcd7XUUUBSZwN/KLJ1bp6kWkJ6sJbo1v5fehq/Z4r6uIosAE7kZ+8VjB/QW4rau+ld+Hrtrjva4iigIDuBv5xWP+cEtwW1d9S1ihq/b4rquIosAE7kZ+ccV01XVd/fmrV6XToKv2+K6riKLABO5GXvGoP9wSHNdVz8rvQ1ft8V1XEUWBCdyNvOLxgvsLKNI0X36V6+GXXxx01R7fdRVRFBjA3cgrHveHCxqvElboqj2e6yqiKDCBu5FXXDVddZ9vPpXfh67a47muIooCE7gb+YSFP1zY+FR+H7pqj+e6iigKTOBu5BM2BffDxqOEFbpqj+e6iigKDOBu5BM2/nCB41HCCl21x29dRRQFJt/fWfktv92NkK76VH4fumqP37qKKApMXHc3quP4MZ+Ts/Da3Wjdgvue4o9fHHTVHr919eZRtIpjaqsYxXE9v+eqeB1Fb8GF7kaD2sWXG5Ocw7yL6MX47W50vYL7PuFNwgpdtcdrXV3ZI66KkyQpT6YTwrp4WshFNzW+Fn5H0VtwkbuRtLpu0javrtuEK+uq1+5G03R1uAEfreOQJ8miDuxwj9+mC2XL730pvw9dtcdrXV3VIy7PRHhtj0vrtrrqdRS9Ce8uKb8ldXUvHa+P0i4s4LOyrvrsbkQL7n84+9tZWptwaOLrDyydhS/l96Gr9nitqxdF0XmiXo+t7bHDhHpOC6TdQld9jqK34SJ3o4RkqoSGt351/NilBWfX1VWv3Y1mCu7fp6764hcHXbXHa11dzyOuIrLaHJI4b6nAHru7T6jn9XXV6yh6Ey5zN1LRPErooEVWHTs0dktXfXY3mvOHi7fV1SQt1mubM/AkYYWu2uOzrq7oEXfQtLQmaUs5f9ymuupzFL0Nzy5yNzK0LiKtnx07tHNLV312N5rzh9tYV7NVx+jt8aT8PnTVHp919bIoOgtJU+RshvJ4wrqprvocRW/DDxfd+abWUWEVg/zlYQjjfVpU7ECSzqZibk2UHLJhX6K6YHVLRpPbspq8RZUc+ubQRfp7xUna79Oimx5tjcfuRrMF9zfW1XWffZ+BH+X3oav2+Kyrl0XRWfbGzZq0MljmJLBmaVKxfwpdVZMS83bo5ZJ/KF2N27Qhc0vXnnbocRS9EZe5G41ySCKsLGGt5FS2Jue/kr18StA14p988LBK5JZu9A7yQrl6r0Je++IFrT67G40L7tf89mr0lpj7o01drSv7r4vdj6au6m8xVvUz79/J4afbVd/rR8IKXbXHZ11d0SOumZ+rFDVmYJ3OB27lTCehqyoY79d9WuNzFL0NF7objcdmieJFoiWH/hFtSxKL6cymPqVP4agspkWqho1benRBTzJjbEUO6tuhB7bPxHvRX0ma0v9cOsXYY3cjI12tyDfTt7k+HJQfMvoFT8RJ6Wrdpuwrr+QXTYYAhivNjBgkKZlA0VVKVyu+AoDPQCzIqWT+Gv1XxK+dyCvVLW39YvyEKCdTGOOCjGsc5L6qo9M0Gjm5nFy3bnnjT/ayhNX1qRPQVXs81tU1PeIOPJSa0CetzeGwl6FyrKsiug7CKu5XFjCLZi5vWYTHUfRGPJ8s3LBirKsRb7mcj2JUncxgZVCP5fSmVjyNb/i+6jAeT8zFTyGX2W4uzifXbnaX4bG70Q9auirn4rdSV6uD7JyOOx2yCUrZ6e25UKoBg/EDcnm9rBL3qdb/Tfl1GeQfndyXsbBQtebRxq/nIPvf/MOq/vj+wLaQ50wpP1nbKzvzPpTfh67a47GuXhhFZyH3UTNRwYLHw5rcsPQGGelqLW5hdpOS+zXi91KV95cHzFk8jqI34kJ3o8lcIq6nQyxuKrohF/FeBvVUzRrmMjoc07MNVdOkxiO8XobXTsTlXp5PpqJfmLD6626kF9yn2XyaJIeGZPPseyYv+rQtZkZ9RBOQNukP9DSulHRLm9ARg9FJRFazIml7+hay/5u1bAI4HYDQ8tWEX5tkqKxD3dGjO3ptM04Mx/YNOZoKcyL/ouHtetW3Jru4KNdsb0H3igzXh/L70FV7PNbVNT3imC72bWkM4PUyVCZcI0e6Su6pil1A6GohZ0BFK6+U8zeK3ooL3Y0musozzyguedirxHCGCOqVPreJ7UyOPimNVPysuK6W2jy59sT845N47G6kF9zPxXfJ8jixiXY7ImNC4U5vAtkzIafR9pPjBPH4zqtFamj2f+mmiGhuZfwOiC6qa9OjMtE1ysej/InMO8nBvfj49DPGqegokH4777h34u8tMxlfvEhYoav2eKyrq3rEqVGhVJVJi+OSv475vTfS1V6N5BzE/RrHIuBmlz85m8HjKHojfnehu9FEV1OZXwpEoBZBXfwetJ3x0SlI+iTylL1Xoo1llPsLZ5L7625k+MNl8iaKha6qbJ7sNaf/8iboVAtwGa2UBCfpwbjzCtX/FdltIo+uRePK30EiBypEByhS79amB+MRa6IGe3kPSxvoiMW7aE+FUqmmesuTRXSOd5uhq/b4q6uXRtFjlPIBy76fyKG490a6qg3k5NPsdOmKABN/o+ituNTd6Fi+uiMlo7skSdN0rKuGFvLQTycstfl0FmmuiWjB3osE+oRTXKqr/robvdVWyNXaTdSzryLWZjsk46cpvAn0vk9PN8mkdEqmBoblPIidNBYSjSp/B406vGKpZ3T82on2+eUPR15b7NxrqWklPR70mOF++X3oqj3+6ur6HnFVnByy0XwCElgLFVinuiruC33sKc6T5EAnj66oq/5G0VtxqbvRseer+uyZka4m+tgt3yimo/TjFan69fnrdG9y0fMCb92NjIL7eurPuxidpqXRuNfBv+1GGwzinZXsqPhp0lce7//KdtIPUW935NqJ9vlnBzoS/t+Z0/U3ct8vDrpqj7+6eiWPuKps1WSJOh3FPlNXozldrQrtnBV11dsoeisudjeamw9MwjCbcEpLB8/oqjpFjkvkQofNCsNX0lV/3Y0Mfzh9lDxhrxMtm0/G3860Syu+1I7NkZgZMZjv/0Z5IspCG40aaenyrpUDDPTa1eTaekKtWjrm19Z0VYsF2l71tzmfsEJX7fFWV1f2iNOJxdKHnAbWPmXLDKe6qne1xf3KFg00+v26Cv5G0Vvx4lJ3o7n1q6RZyc+Ar1+0yVcJdU6np5rXm9fVLNaodufjrbuR6Q+XTHX1cKrXMe3SSmkTPdqxJ8Z8/1d/F0NXjaJqYqO49mG8fnWmdc3+uNBVeWKUzf5tv7peft9pXU0uqZF3PbzV1YujqAU567CSZyuNWq44r6vj+5XcUbzSUr+mrnobRW/Gxe5Go1uy4vNLtWm8MjDr85bkCb259CIfS4E+rHmQ85YWl8zz1d1o5A+XaE8eua6ezOant56SZlHqQZRx4czdp3Qwok8PQ0bc2+jqru74MtveVNYZXc1Zd7xl2bbQVfEJOmOv9re5Xn7/FrpK8hGzV0SewlkU2IGursOKHnETajZ5T0zv2x3T1bnxpb0KsquOA/saRW/Hxe5G5i1ZibEJbYAvn9NVMdxYjSN/Mmp4fVijl7ra75bhrbvRqOB+N81Xi1O9jvlxYDl6UHdsxEBvkXq+/ysGI7IZXa20a8vPEnWsRIwx63tGV3s19XFGVxtjr/Y5XfeLu4Wu7vejO6OaDP/MA11dh/U84mhV9EbvhPJJgK1q4uSororOVcGO0BYm1mvqqrdR9GZc7m5k3JKVnP2Sqmjdj3WVBEfRfcpZk0elTFpH01e0Ga81DxKxNi5YzVTds8BXd6OxP9yR56tH/+7jz1clpAmN+UNTXa1m+r/H5i3p2RI1lDTSJ30cu6DvW2thYaqr+gPekf4TY40HdyuV3kpXjcp3HXT1lqzoEbejUVJvFJ6eqPAoV70dX7/KQ692l7Vr6qqvUfR2XO5upN2SbLCPLfxXKxwL+Zgs1ZY4ihWRbP2lFkzr8YP1TCp0K4JEemKFph2+uhuN/eH0RTW83lKpJ4xj1DobKW+H0WTbqhkJsyai0/5vPKercixy/DAnaqZPz+XQBWtKbWltPtXVYmYYhON4+f2b6areb8mgq7dkRY+4HV/bXYl/Rbx6WSvvADpFON9NdLWTg0LioVopE5Fyv5/Mur8cX6Po7bjc3SgRk4g69nSOj13k/El5dNj3Qhnp6scq5iV5ZHH+mv0kGjoVtU5H4VJdqZVBgtYXJkeTbc0lzkeeuhtN/OG0zJH0TfY7+RyGbUtGtTb4racNJvHiV3EiHaTyUSjVKjbz/q+mfYeJrh7UjctTyjiRxf2LkWYn6sPyD6Kl29lUVw8zwyACt/3ibqOraa8vWB6+/x66ejtW9Ijb8eDYF/S2jNqG3ynk3iO3U5TtM14geKY+MCn6XXV7ntGS+zAdIkFd7JtUlW1ZjKdR9IZc7m6UmLNkZAeLqixp+YYJYsa7T/QnQF81qbJXiPjkcfofc60ir5JJsqhO3P6Fdv4lRnG+uhuN/eFY97VSXxPf1Efyq5sUwxK3Xi4v0O/GQwDGSbns7Yr+byxPVwONMvNUO4Ui98bQldFbprWEK9GmjfFuhfwtKAWV78JK+RvJsNsJ6410tdCmTpNvUH/aPvSd0jTJtRumTFJaIU8fdCKrmIpOH/nX9xySyx68nIWvurqiRxxBlDHs+dp+OhJBn6XsSfaRVSm7Q2b9bEiPai/Wm9MtGe2JdpOH8BfjaxS9HQvcjQxdzdRsRLEeool2NQ/57HdAfwLShYW7qeiLK8bzFyt5JeXxKe1YmouKXTrlbvSnP//J8sgZO3Ny52RlVZUH2jmlXyUdNajJsqVJ31TcevQxS8QHAchXSOTsQEYM4skTGCKGZDAhLkT/t6JNzd5UlCAlFyjomifSkh25kjaHbbh2xa9tFN6nv57h8+/qjotoRDfsqnLoj6f896HOIiEkLYc/bdhLhkGMhPWP25Tf//M/2Rx1I12N9G5ps2/ULaMWKInW5ffjcGMpXZVeRGklv3C2J5e33Jp122dxSVf/YtW6lDU94lgDJb2MivK3LkLn0Hem2Ug69V8VMbkTPVLZ0rnW/16MU1HUSRa4G8WyBkE5WkiaF2naUtmr8iKhgbFr05ZFSFKey+z8RsPh+/QwrrfEjiXd6iH4JomQ0aokRbmKmVIDNjjlbvTX3377Zztp/WGSrioP40GMxP2iPOAmNZel9YG2GqfVrsPOFJmraEh5qJgrlKjr0yc2w8Z6z1/wbpQWwvli10Z7NwEJ6OovoG+rLOvrjvfDVL6qVudmvISMfrVtyu//9tvf/v548L2RrpLRBtF6OTMPZIrJ2int5QADj7Cke9IctEF8ARvzkLpKW0kfYroiLunqv/z2H/7jv9oduqZHnICEyYG2U0+7qiGK8sBaD4G1JGGRmVQlojp/RAIt6SUPe9iJ5RBdWWytyiJZZ+aSU1HUSdZ0N/IBp9yNBl39jUjro7H5lV5wX9KKMKhSC5n89+M6DKoKh5AvOZc/l31js+DVTglrLhUuUbG35XKaC11VdqtiMGInvV2b0R1NE6WDLqvybHltQ1dFQYohnZr2vH/aZN4/bb5HpfVWutqpaWNDY5dCV8nwYSMbJxetSptaTVzIeVeMHkQfZIsflZrSkK34gO4Ibukq4R9/+bfHD0UUBSaruhu5j1vuRkxXLWLzu/lqLnWZ0L5pFcextu2QJNMBuyiWZeuruGuTXD+EPX+bGTAgIwZtF7Hz2e66K1o+eBDlHd0YdYkYfyCjEcaDvN3wGdPD9NpsAJJcXiugGHVFIa7dkU9o1NQa+uIF/8vYXo0vWzxhVc13Kq+5ja5mZIyez+yqyQPrWD3+FmMXB/58TT32lhPte3mUmGiujTFqlscrVpidwz1d/c1mTAlRFBis7W7kOm65G0ldfURan8ymq36zRuksjZ+2uNW15jsxZHijdTZUNmvx3RZSVxs1As9LoWnrf6O9KnWl+RSRE7iuauXT9LVOV8JJXaV3519PHIkoCkzWdzdyG7fcjXRdPXXzvgjwvl1ZV6m/xq0Lq5nNd0xab6arpUgneyKSQlc1XeSriktNHmcKmfH6oVxX85FJ0iVr2+xxVVdZ8x4bEUYUBSZXcjdyFrfcjUa6ejQ2vwvwvl1bV3/ZoA8903wzT+NupqtDakrFMaIiGaty3ZU4jD1k1796XrGFTF8SZha8QibXVaOd9qOFw6vjsK6yh62zI8KIosDgiu5GTuKYu9FUV+eldc3io66wtq7SZz43br+55ptOdLmdrhZsMLel83ZjVfpTHsZm/+pf/WHegFGd2EJXDWZmGSKKApNruhu5iGPuRrO6Ok171i0+6ghr6+pug6XqR5pvJK2301W+hLWhGWqs3HVHX7pWRks0QzPS1UjqqlHoeX/tiUvu6+rM8xpEUWByTXcjF3HM3eiYro5i89NVi486wuq6+un2c/9PNN+/qDmkt9PVHa1lWMoad5N8lSWfxWy+miYatTzxMMpXS9uPdBFe6Or4YSuiKDAJcYDxBMTd6N9/8wYhraQ//Gnr725t6ji+pA7lccgD1v+0dZPpiOUZN9TVjuhey8RvTlePPl9Np72czZ6vbt1utvxDdJ3uMIrCI+4UQQ4wnoC4G/3nrW/H8+/dWwRm//nomq7+xqX1hrpak1SVz17S5gNLLZTGQTPzgY/oaqfNFK5vMh9460Y7p33/yz/dZxSFR9wp1nU3ch+S0vzXre/Fs+/dP/836KoFJCT/960ba6b5/v4/bqerZNRWrLaJVcUH8YCUOxprFoNi/WqnKWbFXmjrV8XAgvGs9mqNuHWLncff/v4/7zCKOmty4QTruhu5D3E3+l9b34jnAl21A7q6o6tNe+UuJOotcd8guUpVlYo4cF0lDgtCfdN91u2MekvCk6gfF3m+SiNu3WLn8be//+87uz3hEfcYK7sbuQ5xN/o/W9+H54FxYGs+Yxx4xyb2shFdWR+4EYUIc1EfuBAvVH1gYSpECwQ3eh3DXO65UX3grRvtnPYl48B3GEXhEXeKVwGW8TkFqXX3f7e+Fc9AzFt6fmfzDS+DzFL8f1s3mc4G85aYUrICy9LPhtoiZMWhFxX1d3VDHWqI0bVcnprRTQV1NCj5+eyaZG1rcyjSW/nZbN1utvB5S/cYReERd4pruBu5jHPuRpbrbH4X4nzg1dmgCMyJ5ttmnQ19HMpzSuW/GsvVqWKoNxJbok4epeyUO3H+frSnue4im53U1a1vTIrlOhtEUWDiqLtRmqbrrsAQOOduZFkXYnXX5BD52ZV6S79tURdiuGf4q0PKKzdEaSpktErabN+nmstRnRya5tBF+lFxMqS0fVrU8vxU7kn7fdom1dVb0Yv1q2ZdiA2iaJGmudlCs/uvg3NR1DWeOOpudK1Fcu65G9nWMXS0oZziJxfqA09F9Ts8Hj8H93V1XMdwiyjKvZTjY9Oz0yuWxXIvirrG725SfquKzxXJa+mqe+5GtnX33+MB6+6xaLGFx8ZjAw0M6Ko9juvqTN3920RRky111b0o6hq3cTdKzl7ydi1ddc/dyNYn7tmdTY2Y52S0+HmLIjA2fSLo6jk4rKtHfOK28Ijjd8KQssSn9l8F96Koa9zG3ejgjK665250z77m53MyWnzcogiMhah+B109B1d19biv+RYecY/p5jV11b0o6hgvb+Nu1Luiqw66G/3VRlQJ7+7MMWOWU9Hi29ctArJqvn89cRR01R4ndfWf//ynowfdKIqabKirDkZRx3ixSvmtuOviarIxycXGynwGUJcxn24Yl0lSGqfWZUL/relqHXdJt1J9dgfdjf46OxNihldIWE9HC1Jb7eHmsyms+kTQ1TNwT1f/8Zd/O3XQ0iha590ovJUy3kVlUpo74y4n4fMwfydUFX/B75R6iM3G2TTkLm8gx6KoY6zgbhT1bF1bz2d10+rdJfNIzqKdtvItZsvpEmHgmIzOHH4EmThN6mp04Ge3axT7dtDd6K+n+8Ia75GwntJV+nT19vHYQlS/g66eg1u6emJwX3BxFKW/5qLXlxUPm+KoFwuKCx78DpU4pWUhsyBhdDRvKc/0QEkuVLX02o0IsFXRjEPuJTgYRR1jubtRp3yQ2S+jHH4Tcsk5WZ5u6mpD6n7TX0SrzuQFR9VpkdDVSJktN8tTVhfdjf5kJ6rfMQvWk6vk4q6lHd+cemfuojiWZdQ1Q7ahB3xIpuMLYq9p3Rbnw8Gqw8wmSdR5m+g9bNIHlv/WvN/EnIrhmsPbVXmS889TFkWudZOG09MkmW/eOk7apJQHn9DVz5ukq989PtBAgK7a45Ku/sWmdS+OouTXLMNgW/FNccoLS0aZDH4ZuzsqdfRYV6vUDJTkQvJoVuWjUtfTfOrPxsUo6havFrsbxVQl4zhvRFsNW/pm35Yx7RsldByXqCSJreTodN+0ZMUy2XjII9b2rIYL6VwVcRUX+0bo6vCiSeK6U/XXluC5uxHpF3892lyiC5KT7zHeGRqk6u7IezWtJleoEnaJVJTUkQfz25qW9BEbxbVzMezAekea25hWtb3j93RT76qD+Jzm+ft0OjwljpWdquO6ulG6agl01R6XdNWGy6NoShwSmqSMu0yET/IDH1STFuogN8ahjKnOsgJaOQ2adTSE22akqxmNlGXb8JtlOCnbZ12ck1uIWQIW7Oz4sF80fcXzKHoDni0ujpeKAElLdVe8oXnMzHiDyraPVb9sJwt4E4eMg9jLTsxFw5cyfhMZXpyweu5uROdHHIvOpczs8/1xXc1V/t+Pv06tO5vL71zoGtsyvKob8yCtD8xG92d1NRG96VSNU8SqrTnjTySeMah3O66rZHDqtbNr1aGr9vimq5dH0VT2GMm915ublNkBvbdpytkL+4SIJy3yHkvEaTU/K5V9ZxlXe2GjWy8yJfI8it6AxR5xSgppqwlrKW6CTEaAq91IV4UbRpr2PEJ2PBVtVUqa8bCbp6k4vhFZ7QJ8dzc6lbCSfmpZ7WqmrzH7+se6Sgfhu7iuVCdWQm/tvK5p37nkB5NLVuSSrBlI2+4P8a5sRSuTEftiuKHjguvivK4SC7KaZqYZeU5Au+Ct+ERZWbMn8uMRCXJ8G0e7RI5fHNVVMkfR4baFrtrjm65eHkVTOURL75VypyUq9NfPzfmEsbxmmpuPdLWRV2rZnU0uxB+f8EPrIeTqk2Auxfcoen0WuxslUkNpe6a8oQv1W4l3I12dhkWxO1M7u+lAxQrzxr13N3r5cHSGRC5H0yOhq+1UVzWnk0b1iBiF7Ds37OhWdI5p75heSo3/5upNUnl+tjumq/us5k2872P+y9mbLZ2rQKCdz7rVZEJbe/JX8MntwSnoqj2+6erlUVTTvh2/xVLZ3633KpPg800S1RmuTF3Vbp6aTSZOVTc1najo0SpNFngfRa/O08UlfFJtPCFnjR4rSazmdHWUdFYxffxKXmpaGo90NYrjbLmu+u9u9PzoSrmDuncOR8eBa9U/FjKoUD1eNs5Qa2MRBb+h93wEgt3p5PBeTYFgK6aO6GopP5qc3kYDQZ6krfoAZl9KuWnTS1W747rqeLoKXT0Dz3R1QRTVtE/8spUGxvJe24l7Q08zM0NX9QRHXk/cmIWpq1rIvQT/o+i1We5uJOegcXZmV2hOV9UztLJN9RPndbUiNhr687sF+O9u9OThWMU0fSLRUV2Ntf5xqd+2O6PHW1GB1O/riDecNlbL+9eH/SjvPaKrldipZdWPjUjol+YyfkxXf3T8Zoeu2uOZri6IonoiyTuR6geej2JrYnSeR/WBpwO72p2iduajkHsJ/kfRa7Pc3WjU9Da6KvbJqZ7iRD3S1uK1mo2zgq4G4G50NGGd6ZRMdbXTe7UjYUvGt5pxq/KDtUbgV6dzm4po9jRNVzO1pZp5+5gwHpGo9V6Y6s7P/QpIH9rpymrQVXs809UFUVTXVf5ARf3Ak1FsTcxf/wW6WqejkHsRAUTR67KCu9Ggen2qsbPWVfIQb98neSwHJaIZaaC/rTaZi7rnE4K70ZPXRyYfWunq+FYd6ao5LjzW1dx8F3F11j1qDnnFtrezuqqeuGfqiuxSsRqQMFs4ngaWY7r6xXWDDeiqPX7p6pIo+qiu6rE1n+gqeYByhq7WLOSW8aJx4BCi6HVZwd1oJsxZ6mqpHvWVx8eBMzHhxZjVdCFBuBuRmmkzsyT0B9L1UV1NT+uqeWcasx16di1TV+nDz6rjK20aVuglnV9nY3wOrbWrYiydkm70advdMV11Pl2Frp6BX7q6JIqOxoHNH3g51b7ROLCWxuQWupqr5yrJ5boaRBS9Kiu4G01nmtnqaquGJBOlq2JSU8nO1KfOLB8HDsPdaD5hrfc2+WpB+qsaJ/PVYpSvTnVVXD0qeNGHaHe2rpJ0t8/pDMZ+Jl/VP22+O6KrtOC+2wVLoav2+KWrS6Lo/Lwlda+M5scbfd/G0NVoIpRTXdXWMS7Q1TCi6DVZwd0omayCtNVVbR5pz7dqm1p2Zq4ex+XLdTUMd6MjCetpXU3kOHB/7NuZTL0/8nx1Rld3pLShqIiljQPnFrraqOKnc+PA40oRs7r60f2Z/9BVe/zS1SVRVF9nM5mYV+3HK+F0OSRCqj92U3dmnaZpNHf3N2pLf7muhhFFr8ga7kZ6XYgipTVij+hqtduNdZWvoaDz3sivS6WwVaN0NVK/hMtLhBB+DcTdaL78vpbsa/OBxTIVXs0lP3E7VXtzfjAZM+j1nSd1lVeAqQw5Pjyuq5p2VmNdrfaTKcOzukrTVccLwEBX7fFKVxdFUa0uhFh3lhozA0V+GWUtubsjdZcXI11tZVKi6kJMdZVHUBpyq4s+cihR9Hqs4hHXGlW38t1RXaVtrO2Tay9yWgw4578a2vCsoF6s1ZgYtjQnci0rQnE3ejrrF5epbodYv6r6KTWf/zezflihCkXUtCBwpKWLYuBgRlelMRWXc61P3Tyiq5Ex4JGMdVULBJI5XfUgXYWunoFXurooipp1DFO+SXt4w3//cm+mFwo2dDUSGY6IoqauFjut5ASbuHBZ9bpQouj1WMEjjkfsNo8T2fWa0VWSeDRJmhumRuS5WhEnwy+FdNUyYmdChxKTvOj3KT+TVp7O87YZthONFZNOLyEYd6PZhJU8OmVfjqy3lMhOaS7m1ff6IO2hM66gEk3e483UuLx4aDrR1aQ3nqZG8tH4jr06qas7douzkbBKOjfon0hUsYyaLKl2s7rqdsF9DnTVHq90dVEUpbXxm2IIn70QutGU332axHkrywKT26Vv8yHaNpmpq/TgQ0cnETajxJfrKj05ISGX+oVlySXOm8FE0aux3COOoJVGZ32rGV3l81ATY5+cm5qzSuyptF8lCqFlupSsimTd2wsJxt3o6Vz5fdLBoaO+tfyeaOlecu/EjVA41QUW9ZIUldhX8hdq/mArvvmJrqrKlBV/ZkM/CLWpayx0VQ1lUIcOc+YUkVoWT+a684KN/OHOA7pqj1e6uiiKEm/yXMVBgv4D1+bKCz8naVqRJyNdVRZyE4FO1M0j3iqdzL63JJgoei2We8SJxmdqKEo6z+kqqwHRmXNjmCkZ9SQjlnIHehxdYtVGJFdi1p30B9AUFTctu9zSJiB3o9ny+yn95si4gRgHZjfPoSA2bXqvNmsT2mbjMdaCXoEYTfE0kRyUFezg1GhQdd/S/vGhSw69SDdZL4l8kPZxXWUVg+lbtHTBnnGvJ/zi9FNX5qUEXqSr0NUz8ElXl0VR6ozRpTIO7sY/8JJJIV/CRk+h0TbNd2NdHe7fsa/5WFcrtn6d+DHSSHuBrgYURa/Eco84BTVXfeyQ6bZanVapbfXkzGh80CUE5G406xcnXd4yOd9HmsLn6u5TpSGmdrZywWgzdlEWt+BUV/WyWbxGvnjXpHpEV0l7xo08WSW4ElVui3+kqa5+8CFdha6egU+6uiyKCsep6MQw3BAkzYhYxceTizh+ZGw3mgm55xBQFL0Siz3iPCMkd6PZhLUiad2Q3VVK/aIDzTijIe1P5WNQViI0y2e+o7KlKSp9ksk2HGiu2oo7mU3hpxS0Agw9iQujCA60L9wXJT3cOJR8jmJ0qZomyHS0Izo0zWg5dF2krEpMPXpXgesF9znQVXt80tVlUTRZvHbw1oQURa/DYo84v/jmwaRRa46W32fqoz+HruY6sKdG0+tHN0ypJuMVZ02JqE4fXVcndjruDyeArtrjk64ui6Le6WpQUfQqLPeI84uw3I2O+8URls3v8gpP0lXo6hl4pKsLo2iydE3+rQkril6D5R5xfhGWu9FxvzjCHemqJ+kqdPUMPNLVhVF0Wi3fccKKotdguUecXwTmbvT8lIvG/eiq+wX3tfaCrtrhka4ujKLe6WpgUXR9VvCI84qfQ3M3en1iIuL96Krz/nAC6Ko9/ujq0ijqm64GF0VXZwWPOK8Izt3oSPl9yt3oqjfpKnT1DPzRVURRYLKCR5xXhOdudCJh1VbDBM03b9JV6OoZ+KOriKLAZAWPOK8Iz92I9JVXqEPpMz4U3OdAV+3xR1cRRYHBy5WKGPpCiO5G7+9sEGqCD/5wAuiqPd7oKqIoMFnFI84jQnQ3mveLuyM8Slehq2fgja4iigKTVTziPCJId6M7T1h//urRYjroqj3e6CqiKDB5uLNnc0G6G716c9fB2gt/OAF01R5vdBVRFBjQiLx1K92QQN2NZsvv3wt++MMJoKv2+KKriKLAZE2POB8I1N3o5T0nrF6lq9DVM/BFVxFFgQk84sLgjhNWWnDfn4c90FV7fNFVRFFgcmdFDIN1Nzpdfv9GxEmSz++pk+RqNli+FNznQFft8UVXEUWBATziQuG0X9xtOF7kNN7v91d6U1/84fSGgq7a4YmuIooCE3jEhYILCesmuupZugpdPQNPdBVRFJi8hUdcKDzffjBqC10lUxO9alLoqj2e6CqiKDB44sDg4S0J2t3o9eaTErfQVX8K7nOgq/b4oauIosAE7kYBccov7jZsoKv++MMJoKv2+KGriKLABO5GIXG1hLWqRhui+SNGulqrlyNdXc+7zrt0Fbp6Bn7oKqIoMHl9Z/Xaw3Y3WskvLk/TfBcV2b45dMM/6y7dDy8rsTs6ZINI9mm3U1v6/T4rSl1Xu3TY1qQJV1BNV3OyZ58dyjUa9KN/BdWgq/b4oauIosAA7kZhsU75/UEdE6KDhGQXNexVX8u9nIxvifkR+1zqap2Jgxomn1JXq1SeXyxvUJ/84QTQVXu80FVEUWACd6OwWMcvblDHwyCVLUkr9/Hw/2mqZLAgEtsmCdnUUGGtyatDlwznZFxXa6K0WVocqNqSLUJXK7InLZKWCG964Qc0G9S3BerQVXu80FVEUWACd6PAWCVhpRlpOmhmTJW1jwehJEPBZB8R0awir3IhtURp6WgvzWxTsaklL8gV6HlCVxMhtLuWiPbCT+pjugpdPQMvdBVRFJjA3SgwVvGLS2RySrQvo69iLp7Dlr5ih3WDZFYsA+UlCnOuq2RTyzZVPdNRrqtkjxj+TeVBF+NXwX0OdNUeL3QVURQY3KO7UeAPBtYov090lT0V7aTC1jy71B6LViz1JIpZqy0pP01crGWbuK4Ked6NjroMv/zhBNBVe3zQVURRYAJ3o+BYwy+O6GpFX8VSYXd0DhNVTrlGJqObhiS1F1tSJqL6cptcCSrbk4k9tX6ti/AyXYWunoEPuoooCkzgbhQeKySsSvxiqbBEMpPRMtSU5q66iHJdHf6TJZx2rKtqstLSB6y/epmuQlfPwAddRRQFJtsXlL0pd+FutEL5/USO9WoyynS11HWVDfHqUlmw13KRDUddKR3pav74pzmObwX3OdBVe3zQVURRYHCP7kYexuEzWe4XR9bZsFcTXc11XWWKepjqaj/S1VjXVTVXaS8nPF2Eb/5wegNBV+3wQFcRRYEJ3I1CZHnCqjJQU1fz6Tjw4dg48LjmAz+xWHEc2NN0Fbp6Bh7oKqIoMIG7UZA8W1p+/5iuxmyuUbVTm5JZXT1MSz6s/3zV13QVunoGHugqoigwgLtRoCwtv39CV41nos3kkWsj5wP3o2vyK5W8TMSOvVYafT7+FdznQFftcV9XEUWByT26G73d+ku/BUv94k7paiqfvVJdjHa7SK3FKfdqsaqoqh91tXalWtPldqq+Z+CfP5wAumqP+7qKKApM4G4UKgsT1lO6GkthrEQx4ExUNqxkzd9UbJLVmMSVWrmHVD1cMB3Y23QVunoG7usqoigwgbtRqCwsv39KV+kaGpKCxpl4PErqJqVlVZfZno8D0/OystrVuRBdcaVa7CmbRenqH71NV6GrZ+C+riKKAoN7dDd6s/WXfiOWld8/qasRXZzacBM5QiWXq6byTGYmR48iNYS1K+Vq+U1/ebUlLwvuc6Cr9jivq4iiwATuRuGyLGE9qau76jCWxarlfqxVKc+MxBrWLBpdSe5RTumXNaavi9Ohq/Y4r6uIosAE7kYBQxPWS7vRdRxzyaziWKyEieK4kvuTQ1LqyWadF0VZ0+Pl5qgcjkqk9qor7aI8aZO4XtCWPqer0NUzcF5XEUWBCdyNAmaN8vsOQ0p/P3iarkJXz8B5XUUUBQZwNwqaNfzinMVPfzgBdNUe13UVURSYwN0oaIJOWP30hxNAV+1xXVcRRYHJD3dWfuve3I3IurqvYdaB8Ttdha6egeu6iigKTOBuFDYr+MW5Ci247226Cl09A9d1FVEUGMDdKHSW+8U5ircF97WGga7a4biuIooCk+/hbhQ4wSasvvrDCaCr9jiuq4iiwOTtnZXfukN3o8V+cW7ie7oKXT0Dx3UVURQYwN3oDljqF+cmP/puqAFdtcdtXUUUBSZwN7oDlvrFOYm//nAC6Ko9busqoigweRfos7dj3Ke7UYgJq7/+cALoqj1u6yqiKDB5fWflt+7T3WihX5yL+J+uQlfPwG1dRRQFBnA3ug+W+cU5CC2477mfBnTVHqd1FVEUmMDd6D4ILmH12R9OAF21x2ldRRQFJj/A3eg+WOQX5x5e+8MJoKv2OK2riKLA5CHAiaKnuFt3o8DK74eQrkJXz8BpXUUUBQZwN7obgvKL87zgPge6ao/LuoooCkzgbnQ3BJWw+u0PJ4Cu2uOyriKKApP3cDe6GwLyiwsjXYWunoHLuoooCkzgbnQ/BFR+/0MQ6Sp09Qxc1lVEUWAAd6N7Ihi/OO8L7msNAl21w2FdRRQFJnA3uieCSVh994cTQFftcVhXEUWBCdyN7opA/OJCSVehq2fgsK4iigIDuBvdGWGU3w8lXYWunoG7uoooCkzgbnRnBOEXF0DBfQ501R53dRVRFJjA3ejeeB1AIVP//eEE0FV73NVVRFFgAnejeyOA8vvhpKvQ1TNwV1cRRYEB3I3uD+/94r6Fk65CV8/AWV1FFAUmcDe6P7xPWIMouM+BrtrjrK4iigKTd3fmbvQF7kbM0srj8vtB+MMJoKv2OKuriKLA5H0Ak0PP4NeAMp3LocNW/saBDyE14rM7KyiwhE+urllGFAUmr+/rF/E5nAdzS3jn80gwcagKp9bLvRXAW8InV2fLIIoCk/vqaf361dUe722h1Qy/+lkmnLbh63DWpD/c2VTSy3G31juiKDC5r1/EjzDjZZB17H4KK72p3cxaLuPelj5ezkdn715EUWByV7aBn8Ow7FwD6mvz1b88iclqMKPA37G5pIFY4l4XurrKzZZHFAUm7/yeGnoO3+h8FzwXYNBHrL7NRP1GV9i8eRvOKDAvLfvpPm7BJXz70dlhYERRMOLVm3uZj/gT6e6+eXDzxtwAJqxffJq9xJowmCU2HDp08ON9ROXL+fmTw02PKApG0Lv6c+jjUN9+or3dNw8BPZhbyvdvmLL+4sdj1t//8vVNiLLKPMbefPkIZT3OHz5/dXqgAlEUmDx5Tb+qT58+hssH9nN48+b1q62/bpd48cC/li+fPmzdRI/w+RP/qG8ewluP/oq3Q9D34BI+8B6Vu2kSoigY8fTN3fDe1e7uRrx8t3WLnM0PITbhy7dbf61e8NbheI4oCkY8f1j+XfvAe4xeTHj6futWOYt3DkfWJTzxr4Nze9yegoooCkY8uYPfxOvvAw3JS3n5zJNk6eGHFwF3lF9+H/49uICHd843PqIomPDy6Yvn4fLsqes35bY8ffps6yZ6jKfOPlpbjbDvwSU88yRHCrsFEUUBAAAAAAAAAAAAAAAAAAAAAAAAAAAAAAAAAAAAAAAAAAAAAAAAAAAAAAAAAAAAAAAAAAAAAAAAAAAAAAAAAAAAAAAAAAAAAAAAAAAAAAAAAAAAAAAAAAAAAAAAAAAAAAAAAAAAAAAAAAAAAAAAAAAAAAAAAAAAAAAAAGAT/j/cBCcEQ4L8tgAAACV0RVh0ZGF0ZTpjcmVhdGUAMjAyMy0wOC0yMVQxNTo1MDowOSswMDowMCL+bJUAAAAldEVYdGRhdGU6bW9kaWZ5ADIwMjMtMDgtMjFUMTU6NTA6MDkrMDA6MDBTo9QpAAAAKHRFWHRkYXRlOnRpbWVzdGFtcAAyMDIzLTA4LTIxVDE1OjUwOjA5KzAwOjAwBLb19gAAAABJRU5ErkJggg==)"
      ],
      "metadata": {
        "id": "0qo-3y5tym0f"
      }
    },
    {
      "cell_type": "code",
      "source": [
        "datos_cardiacos.head()"
      ],
      "metadata": {
        "colab": {
          "base_uri": "https://localhost:8080/",
          "height": 226
        },
        "id": "Oa7_-eINbwry",
        "outputId": "d8f158cb-09b6-4400-f3a5-93612c37b9f1"
      },
      "execution_count": 13,
      "outputs": [
        {
          "output_type": "execute_result",
          "data": {
            "text/plain": [
              "    age  anaemia  creatinine_phosphokinase  diabetes  ejection_fraction  \\\n",
              "0  75.0        0                       582         0                 20   \n",
              "1  55.0        0                      7861         0                 38   \n",
              "2  65.0        0                       146         0                 20   \n",
              "3  50.0        1                       111         0                 20   \n",
              "4  65.0        1                       160         1                 20   \n",
              "\n",
              "   high_blood_pressure  platelets  serum_creatinine  serum_sodium  sex  \\\n",
              "0                    1  265000.00               1.9           130    1   \n",
              "1                    0  263358.03               1.1           136    1   \n",
              "2                    0  162000.00               1.3           129    1   \n",
              "3                    0  210000.00               1.9           137    1   \n",
              "4                    0  327000.00               2.7           116    0   \n",
              "\n",
              "   smoking  time  DEATH_EVENT  \n",
              "0        0     4            1  \n",
              "1        0     6            1  \n",
              "2        1     7            1  \n",
              "3        0     7            1  \n",
              "4        0     8            1  "
            ],
            "text/html": [
              "\n",
              "  <div id=\"df-07d94441-91f4-40c9-a9f0-15ef3b4b53ff\" class=\"colab-df-container\">\n",
              "    <div>\n",
              "<style scoped>\n",
              "    .dataframe tbody tr th:only-of-type {\n",
              "        vertical-align: middle;\n",
              "    }\n",
              "\n",
              "    .dataframe tbody tr th {\n",
              "        vertical-align: top;\n",
              "    }\n",
              "\n",
              "    .dataframe thead th {\n",
              "        text-align: right;\n",
              "    }\n",
              "</style>\n",
              "<table border=\"1\" class=\"dataframe\">\n",
              "  <thead>\n",
              "    <tr style=\"text-align: right;\">\n",
              "      <th></th>\n",
              "      <th>age</th>\n",
              "      <th>anaemia</th>\n",
              "      <th>creatinine_phosphokinase</th>\n",
              "      <th>diabetes</th>\n",
              "      <th>ejection_fraction</th>\n",
              "      <th>high_blood_pressure</th>\n",
              "      <th>platelets</th>\n",
              "      <th>serum_creatinine</th>\n",
              "      <th>serum_sodium</th>\n",
              "      <th>sex</th>\n",
              "      <th>smoking</th>\n",
              "      <th>time</th>\n",
              "      <th>DEATH_EVENT</th>\n",
              "    </tr>\n",
              "  </thead>\n",
              "  <tbody>\n",
              "    <tr>\n",
              "      <th>0</th>\n",
              "      <td>75.0</td>\n",
              "      <td>0</td>\n",
              "      <td>582</td>\n",
              "      <td>0</td>\n",
              "      <td>20</td>\n",
              "      <td>1</td>\n",
              "      <td>265000.00</td>\n",
              "      <td>1.9</td>\n",
              "      <td>130</td>\n",
              "      <td>1</td>\n",
              "      <td>0</td>\n",
              "      <td>4</td>\n",
              "      <td>1</td>\n",
              "    </tr>\n",
              "    <tr>\n",
              "      <th>1</th>\n",
              "      <td>55.0</td>\n",
              "      <td>0</td>\n",
              "      <td>7861</td>\n",
              "      <td>0</td>\n",
              "      <td>38</td>\n",
              "      <td>0</td>\n",
              "      <td>263358.03</td>\n",
              "      <td>1.1</td>\n",
              "      <td>136</td>\n",
              "      <td>1</td>\n",
              "      <td>0</td>\n",
              "      <td>6</td>\n",
              "      <td>1</td>\n",
              "    </tr>\n",
              "    <tr>\n",
              "      <th>2</th>\n",
              "      <td>65.0</td>\n",
              "      <td>0</td>\n",
              "      <td>146</td>\n",
              "      <td>0</td>\n",
              "      <td>20</td>\n",
              "      <td>0</td>\n",
              "      <td>162000.00</td>\n",
              "      <td>1.3</td>\n",
              "      <td>129</td>\n",
              "      <td>1</td>\n",
              "      <td>1</td>\n",
              "      <td>7</td>\n",
              "      <td>1</td>\n",
              "    </tr>\n",
              "    <tr>\n",
              "      <th>3</th>\n",
              "      <td>50.0</td>\n",
              "      <td>1</td>\n",
              "      <td>111</td>\n",
              "      <td>0</td>\n",
              "      <td>20</td>\n",
              "      <td>0</td>\n",
              "      <td>210000.00</td>\n",
              "      <td>1.9</td>\n",
              "      <td>137</td>\n",
              "      <td>1</td>\n",
              "      <td>0</td>\n",
              "      <td>7</td>\n",
              "      <td>1</td>\n",
              "    </tr>\n",
              "    <tr>\n",
              "      <th>4</th>\n",
              "      <td>65.0</td>\n",
              "      <td>1</td>\n",
              "      <td>160</td>\n",
              "      <td>1</td>\n",
              "      <td>20</td>\n",
              "      <td>0</td>\n",
              "      <td>327000.00</td>\n",
              "      <td>2.7</td>\n",
              "      <td>116</td>\n",
              "      <td>0</td>\n",
              "      <td>0</td>\n",
              "      <td>8</td>\n",
              "      <td>1</td>\n",
              "    </tr>\n",
              "  </tbody>\n",
              "</table>\n",
              "</div>\n",
              "    <div class=\"colab-df-buttons\">\n",
              "\n",
              "  <div class=\"colab-df-container\">\n",
              "    <button class=\"colab-df-convert\" onclick=\"convertToInteractive('df-07d94441-91f4-40c9-a9f0-15ef3b4b53ff')\"\n",
              "            title=\"Convert this dataframe to an interactive table.\"\n",
              "            style=\"display:none;\">\n",
              "\n",
              "  <svg xmlns=\"http://www.w3.org/2000/svg\" height=\"24px\" viewBox=\"0 -960 960 960\">\n",
              "    <path d=\"M120-120v-720h720v720H120Zm60-500h600v-160H180v160Zm220 220h160v-160H400v160Zm0 220h160v-160H400v160ZM180-400h160v-160H180v160Zm440 0h160v-160H620v160ZM180-180h160v-160H180v160Zm440 0h160v-160H620v160Z\"/>\n",
              "  </svg>\n",
              "    </button>\n",
              "\n",
              "  <style>\n",
              "    .colab-df-container {\n",
              "      display:flex;\n",
              "      gap: 12px;\n",
              "    }\n",
              "\n",
              "    .colab-df-convert {\n",
              "      background-color: #E8F0FE;\n",
              "      border: none;\n",
              "      border-radius: 50%;\n",
              "      cursor: pointer;\n",
              "      display: none;\n",
              "      fill: #1967D2;\n",
              "      height: 32px;\n",
              "      padding: 0 0 0 0;\n",
              "      width: 32px;\n",
              "    }\n",
              "\n",
              "    .colab-df-convert:hover {\n",
              "      background-color: #E2EBFA;\n",
              "      box-shadow: 0px 1px 2px rgba(60, 64, 67, 0.3), 0px 1px 3px 1px rgba(60, 64, 67, 0.15);\n",
              "      fill: #174EA6;\n",
              "    }\n",
              "\n",
              "    .colab-df-buttons div {\n",
              "      margin-bottom: 4px;\n",
              "    }\n",
              "\n",
              "    [theme=dark] .colab-df-convert {\n",
              "      background-color: #3B4455;\n",
              "      fill: #D2E3FC;\n",
              "    }\n",
              "\n",
              "    [theme=dark] .colab-df-convert:hover {\n",
              "      background-color: #434B5C;\n",
              "      box-shadow: 0px 1px 3px 1px rgba(0, 0, 0, 0.15);\n",
              "      filter: drop-shadow(0px 1px 2px rgba(0, 0, 0, 0.3));\n",
              "      fill: #FFFFFF;\n",
              "    }\n",
              "  </style>\n",
              "\n",
              "    <script>\n",
              "      const buttonEl =\n",
              "        document.querySelector('#df-07d94441-91f4-40c9-a9f0-15ef3b4b53ff button.colab-df-convert');\n",
              "      buttonEl.style.display =\n",
              "        google.colab.kernel.accessAllowed ? 'block' : 'none';\n",
              "\n",
              "      async function convertToInteractive(key) {\n",
              "        const element = document.querySelector('#df-07d94441-91f4-40c9-a9f0-15ef3b4b53ff');\n",
              "        const dataTable =\n",
              "          await google.colab.kernel.invokeFunction('convertToInteractive',\n",
              "                                                    [key], {});\n",
              "        if (!dataTable) return;\n",
              "\n",
              "        const docLinkHtml = 'Like what you see? Visit the ' +\n",
              "          '<a target=\"_blank\" href=https://colab.research.google.com/notebooks/data_table.ipynb>data table notebook</a>'\n",
              "          + ' to learn more about interactive tables.';\n",
              "        element.innerHTML = '';\n",
              "        dataTable['output_type'] = 'display_data';\n",
              "        await google.colab.output.renderOutput(dataTable, element);\n",
              "        const docLink = document.createElement('div');\n",
              "        docLink.innerHTML = docLinkHtml;\n",
              "        element.appendChild(docLink);\n",
              "      }\n",
              "    </script>\n",
              "  </div>\n",
              "\n",
              "\n",
              "<div id=\"df-ed54ee9e-6520-4ac9-aa64-5478acdf52ee\">\n",
              "  <button class=\"colab-df-quickchart\" onclick=\"quickchart('df-ed54ee9e-6520-4ac9-aa64-5478acdf52ee')\"\n",
              "            title=\"Suggest charts.\"\n",
              "            style=\"display:none;\">\n",
              "\n",
              "<svg xmlns=\"http://www.w3.org/2000/svg\" height=\"24px\"viewBox=\"0 0 24 24\"\n",
              "     width=\"24px\">\n",
              "    <g>\n",
              "        <path d=\"M19 3H5c-1.1 0-2 .9-2 2v14c0 1.1.9 2 2 2h14c1.1 0 2-.9 2-2V5c0-1.1-.9-2-2-2zM9 17H7v-7h2v7zm4 0h-2V7h2v10zm4 0h-2v-4h2v4z\"/>\n",
              "    </g>\n",
              "</svg>\n",
              "  </button>\n",
              "\n",
              "<style>\n",
              "  .colab-df-quickchart {\n",
              "    background-color: #E8F0FE;\n",
              "    border: none;\n",
              "    border-radius: 50%;\n",
              "    cursor: pointer;\n",
              "    display: none;\n",
              "    fill: #1967D2;\n",
              "    height: 32px;\n",
              "    padding: 0 0 0 0;\n",
              "    width: 32px;\n",
              "  }\n",
              "\n",
              "  .colab-df-quickchart:hover {\n",
              "    background-color: #E2EBFA;\n",
              "    box-shadow: 0px 1px 2px rgba(60, 64, 67, 0.3), 0px 1px 3px 1px rgba(60, 64, 67, 0.15);\n",
              "    fill: #174EA6;\n",
              "  }\n",
              "\n",
              "  [theme=dark] .colab-df-quickchart {\n",
              "    background-color: #3B4455;\n",
              "    fill: #D2E3FC;\n",
              "  }\n",
              "\n",
              "  [theme=dark] .colab-df-quickchart:hover {\n",
              "    background-color: #434B5C;\n",
              "    box-shadow: 0px 1px 3px 1px rgba(0, 0, 0, 0.15);\n",
              "    filter: drop-shadow(0px 1px 2px rgba(0, 0, 0, 0.3));\n",
              "    fill: #FFFFFF;\n",
              "  }\n",
              "</style>\n",
              "\n",
              "  <script>\n",
              "    async function quickchart(key) {\n",
              "      const charts = await google.colab.kernel.invokeFunction(\n",
              "          'suggestCharts', [key], {});\n",
              "    }\n",
              "    (() => {\n",
              "      let quickchartButtonEl =\n",
              "        document.querySelector('#df-ed54ee9e-6520-4ac9-aa64-5478acdf52ee button');\n",
              "      quickchartButtonEl.style.display =\n",
              "        google.colab.kernel.accessAllowed ? 'block' : 'none';\n",
              "    })();\n",
              "  </script>\n",
              "</div>\n",
              "    </div>\n",
              "  </div>\n"
            ]
          },
          "metadata": {},
          "execution_count": 13
        }
      ]
    },
    {
      "cell_type": "markdown",
      "source": [
        "No estoy seguro de qué es \"time\", así que por las dudas lo saco y queda todo transparente."
      ],
      "metadata": {
        "id": "kE7-t1wHehVO"
      }
    },
    {
      "cell_type": "code",
      "source": [
        "datos_cardiacos = datos_cardiacos.drop(\"time\", axis=1)\n",
        "datos_cardiacos.head()"
      ],
      "metadata": {
        "colab": {
          "base_uri": "https://localhost:8080/",
          "height": 226
        },
        "id": "dpbWmQSlel6f",
        "outputId": "0853d605-72ab-4b39-a9e3-eeb85089fc8d"
      },
      "execution_count": 14,
      "outputs": [
        {
          "output_type": "execute_result",
          "data": {
            "text/plain": [
              "    age  anaemia  creatinine_phosphokinase  diabetes  ejection_fraction  \\\n",
              "0  75.0        0                       582         0                 20   \n",
              "1  55.0        0                      7861         0                 38   \n",
              "2  65.0        0                       146         0                 20   \n",
              "3  50.0        1                       111         0                 20   \n",
              "4  65.0        1                       160         1                 20   \n",
              "\n",
              "   high_blood_pressure  platelets  serum_creatinine  serum_sodium  sex  \\\n",
              "0                    1  265000.00               1.9           130    1   \n",
              "1                    0  263358.03               1.1           136    1   \n",
              "2                    0  162000.00               1.3           129    1   \n",
              "3                    0  210000.00               1.9           137    1   \n",
              "4                    0  327000.00               2.7           116    0   \n",
              "\n",
              "   smoking  DEATH_EVENT  \n",
              "0        0            1  \n",
              "1        0            1  \n",
              "2        1            1  \n",
              "3        0            1  \n",
              "4        0            1  "
            ],
            "text/html": [
              "\n",
              "  <div id=\"df-9d7ec07e-45c6-4a81-be01-4f750c55848c\" class=\"colab-df-container\">\n",
              "    <div>\n",
              "<style scoped>\n",
              "    .dataframe tbody tr th:only-of-type {\n",
              "        vertical-align: middle;\n",
              "    }\n",
              "\n",
              "    .dataframe tbody tr th {\n",
              "        vertical-align: top;\n",
              "    }\n",
              "\n",
              "    .dataframe thead th {\n",
              "        text-align: right;\n",
              "    }\n",
              "</style>\n",
              "<table border=\"1\" class=\"dataframe\">\n",
              "  <thead>\n",
              "    <tr style=\"text-align: right;\">\n",
              "      <th></th>\n",
              "      <th>age</th>\n",
              "      <th>anaemia</th>\n",
              "      <th>creatinine_phosphokinase</th>\n",
              "      <th>diabetes</th>\n",
              "      <th>ejection_fraction</th>\n",
              "      <th>high_blood_pressure</th>\n",
              "      <th>platelets</th>\n",
              "      <th>serum_creatinine</th>\n",
              "      <th>serum_sodium</th>\n",
              "      <th>sex</th>\n",
              "      <th>smoking</th>\n",
              "      <th>DEATH_EVENT</th>\n",
              "    </tr>\n",
              "  </thead>\n",
              "  <tbody>\n",
              "    <tr>\n",
              "      <th>0</th>\n",
              "      <td>75.0</td>\n",
              "      <td>0</td>\n",
              "      <td>582</td>\n",
              "      <td>0</td>\n",
              "      <td>20</td>\n",
              "      <td>1</td>\n",
              "      <td>265000.00</td>\n",
              "      <td>1.9</td>\n",
              "      <td>130</td>\n",
              "      <td>1</td>\n",
              "      <td>0</td>\n",
              "      <td>1</td>\n",
              "    </tr>\n",
              "    <tr>\n",
              "      <th>1</th>\n",
              "      <td>55.0</td>\n",
              "      <td>0</td>\n",
              "      <td>7861</td>\n",
              "      <td>0</td>\n",
              "      <td>38</td>\n",
              "      <td>0</td>\n",
              "      <td>263358.03</td>\n",
              "      <td>1.1</td>\n",
              "      <td>136</td>\n",
              "      <td>1</td>\n",
              "      <td>0</td>\n",
              "      <td>1</td>\n",
              "    </tr>\n",
              "    <tr>\n",
              "      <th>2</th>\n",
              "      <td>65.0</td>\n",
              "      <td>0</td>\n",
              "      <td>146</td>\n",
              "      <td>0</td>\n",
              "      <td>20</td>\n",
              "      <td>0</td>\n",
              "      <td>162000.00</td>\n",
              "      <td>1.3</td>\n",
              "      <td>129</td>\n",
              "      <td>1</td>\n",
              "      <td>1</td>\n",
              "      <td>1</td>\n",
              "    </tr>\n",
              "    <tr>\n",
              "      <th>3</th>\n",
              "      <td>50.0</td>\n",
              "      <td>1</td>\n",
              "      <td>111</td>\n",
              "      <td>0</td>\n",
              "      <td>20</td>\n",
              "      <td>0</td>\n",
              "      <td>210000.00</td>\n",
              "      <td>1.9</td>\n",
              "      <td>137</td>\n",
              "      <td>1</td>\n",
              "      <td>0</td>\n",
              "      <td>1</td>\n",
              "    </tr>\n",
              "    <tr>\n",
              "      <th>4</th>\n",
              "      <td>65.0</td>\n",
              "      <td>1</td>\n",
              "      <td>160</td>\n",
              "      <td>1</td>\n",
              "      <td>20</td>\n",
              "      <td>0</td>\n",
              "      <td>327000.00</td>\n",
              "      <td>2.7</td>\n",
              "      <td>116</td>\n",
              "      <td>0</td>\n",
              "      <td>0</td>\n",
              "      <td>1</td>\n",
              "    </tr>\n",
              "  </tbody>\n",
              "</table>\n",
              "</div>\n",
              "    <div class=\"colab-df-buttons\">\n",
              "\n",
              "  <div class=\"colab-df-container\">\n",
              "    <button class=\"colab-df-convert\" onclick=\"convertToInteractive('df-9d7ec07e-45c6-4a81-be01-4f750c55848c')\"\n",
              "            title=\"Convert this dataframe to an interactive table.\"\n",
              "            style=\"display:none;\">\n",
              "\n",
              "  <svg xmlns=\"http://www.w3.org/2000/svg\" height=\"24px\" viewBox=\"0 -960 960 960\">\n",
              "    <path d=\"M120-120v-720h720v720H120Zm60-500h600v-160H180v160Zm220 220h160v-160H400v160Zm0 220h160v-160H400v160ZM180-400h160v-160H180v160Zm440 0h160v-160H620v160ZM180-180h160v-160H180v160Zm440 0h160v-160H620v160Z\"/>\n",
              "  </svg>\n",
              "    </button>\n",
              "\n",
              "  <style>\n",
              "    .colab-df-container {\n",
              "      display:flex;\n",
              "      gap: 12px;\n",
              "    }\n",
              "\n",
              "    .colab-df-convert {\n",
              "      background-color: #E8F0FE;\n",
              "      border: none;\n",
              "      border-radius: 50%;\n",
              "      cursor: pointer;\n",
              "      display: none;\n",
              "      fill: #1967D2;\n",
              "      height: 32px;\n",
              "      padding: 0 0 0 0;\n",
              "      width: 32px;\n",
              "    }\n",
              "\n",
              "    .colab-df-convert:hover {\n",
              "      background-color: #E2EBFA;\n",
              "      box-shadow: 0px 1px 2px rgba(60, 64, 67, 0.3), 0px 1px 3px 1px rgba(60, 64, 67, 0.15);\n",
              "      fill: #174EA6;\n",
              "    }\n",
              "\n",
              "    .colab-df-buttons div {\n",
              "      margin-bottom: 4px;\n",
              "    }\n",
              "\n",
              "    [theme=dark] .colab-df-convert {\n",
              "      background-color: #3B4455;\n",
              "      fill: #D2E3FC;\n",
              "    }\n",
              "\n",
              "    [theme=dark] .colab-df-convert:hover {\n",
              "      background-color: #434B5C;\n",
              "      box-shadow: 0px 1px 3px 1px rgba(0, 0, 0, 0.15);\n",
              "      filter: drop-shadow(0px 1px 2px rgba(0, 0, 0, 0.3));\n",
              "      fill: #FFFFFF;\n",
              "    }\n",
              "  </style>\n",
              "\n",
              "    <script>\n",
              "      const buttonEl =\n",
              "        document.querySelector('#df-9d7ec07e-45c6-4a81-be01-4f750c55848c button.colab-df-convert');\n",
              "      buttonEl.style.display =\n",
              "        google.colab.kernel.accessAllowed ? 'block' : 'none';\n",
              "\n",
              "      async function convertToInteractive(key) {\n",
              "        const element = document.querySelector('#df-9d7ec07e-45c6-4a81-be01-4f750c55848c');\n",
              "        const dataTable =\n",
              "          await google.colab.kernel.invokeFunction('convertToInteractive',\n",
              "                                                    [key], {});\n",
              "        if (!dataTable) return;\n",
              "\n",
              "        const docLinkHtml = 'Like what you see? Visit the ' +\n",
              "          '<a target=\"_blank\" href=https://colab.research.google.com/notebooks/data_table.ipynb>data table notebook</a>'\n",
              "          + ' to learn more about interactive tables.';\n",
              "        element.innerHTML = '';\n",
              "        dataTable['output_type'] = 'display_data';\n",
              "        await google.colab.output.renderOutput(dataTable, element);\n",
              "        const docLink = document.createElement('div');\n",
              "        docLink.innerHTML = docLinkHtml;\n",
              "        element.appendChild(docLink);\n",
              "      }\n",
              "    </script>\n",
              "  </div>\n",
              "\n",
              "\n",
              "<div id=\"df-5647a027-8f3f-479a-8f4d-548ed08f5c68\">\n",
              "  <button class=\"colab-df-quickchart\" onclick=\"quickchart('df-5647a027-8f3f-479a-8f4d-548ed08f5c68')\"\n",
              "            title=\"Suggest charts.\"\n",
              "            style=\"display:none;\">\n",
              "\n",
              "<svg xmlns=\"http://www.w3.org/2000/svg\" height=\"24px\"viewBox=\"0 0 24 24\"\n",
              "     width=\"24px\">\n",
              "    <g>\n",
              "        <path d=\"M19 3H5c-1.1 0-2 .9-2 2v14c0 1.1.9 2 2 2h14c1.1 0 2-.9 2-2V5c0-1.1-.9-2-2-2zM9 17H7v-7h2v7zm4 0h-2V7h2v10zm4 0h-2v-4h2v4z\"/>\n",
              "    </g>\n",
              "</svg>\n",
              "  </button>\n",
              "\n",
              "<style>\n",
              "  .colab-df-quickchart {\n",
              "    background-color: #E8F0FE;\n",
              "    border: none;\n",
              "    border-radius: 50%;\n",
              "    cursor: pointer;\n",
              "    display: none;\n",
              "    fill: #1967D2;\n",
              "    height: 32px;\n",
              "    padding: 0 0 0 0;\n",
              "    width: 32px;\n",
              "  }\n",
              "\n",
              "  .colab-df-quickchart:hover {\n",
              "    background-color: #E2EBFA;\n",
              "    box-shadow: 0px 1px 2px rgba(60, 64, 67, 0.3), 0px 1px 3px 1px rgba(60, 64, 67, 0.15);\n",
              "    fill: #174EA6;\n",
              "  }\n",
              "\n",
              "  [theme=dark] .colab-df-quickchart {\n",
              "    background-color: #3B4455;\n",
              "    fill: #D2E3FC;\n",
              "  }\n",
              "\n",
              "  [theme=dark] .colab-df-quickchart:hover {\n",
              "    background-color: #434B5C;\n",
              "    box-shadow: 0px 1px 3px 1px rgba(0, 0, 0, 0.15);\n",
              "    filter: drop-shadow(0px 1px 2px rgba(0, 0, 0, 0.3));\n",
              "    fill: #FFFFFF;\n",
              "  }\n",
              "</style>\n",
              "\n",
              "  <script>\n",
              "    async function quickchart(key) {\n",
              "      const charts = await google.colab.kernel.invokeFunction(\n",
              "          'suggestCharts', [key], {});\n",
              "    }\n",
              "    (() => {\n",
              "      let quickchartButtonEl =\n",
              "        document.querySelector('#df-5647a027-8f3f-479a-8f4d-548ed08f5c68 button');\n",
              "      quickchartButtonEl.style.display =\n",
              "        google.colab.kernel.accessAllowed ? 'block' : 'none';\n",
              "    })();\n",
              "  </script>\n",
              "</div>\n",
              "    </div>\n",
              "  </div>\n"
            ]
          },
          "metadata": {},
          "execution_count": 14
        }
      ]
    },
    {
      "cell_type": "markdown",
      "source": [
        "Revisemos las variables categóricas, como ser anaemia, diabetes, sex, high_blood_pressure,\n",
        "smoking, DEATH_EVENT"
      ],
      "metadata": {
        "id": "E5PZWpZXfdxw"
      }
    },
    {
      "cell_type": "code",
      "source": [
        "datos_cardiacos[\"DEATH_EVENT\"].value_counts()"
      ],
      "metadata": {
        "colab": {
          "base_uri": "https://localhost:8080/"
        },
        "id": "hr3jfvgcgYYG",
        "outputId": "701d8bb2-e592-47c7-924d-dd60b2b0bc28"
      },
      "execution_count": 15,
      "outputs": [
        {
          "output_type": "execute_result",
          "data": {
            "text/plain": [
              "0    203\n",
              "1     96\n",
              "Name: DEATH_EVENT, dtype: int64"
            ]
          },
          "metadata": {},
          "execution_count": 15
        }
      ]
    },
    {
      "cell_type": "code",
      "source": [
        "datos_cardiacos[\"anaemia\"].value_counts()"
      ],
      "metadata": {
        "colab": {
          "base_uri": "https://localhost:8080/"
        },
        "id": "cMhkYHTUetF_",
        "outputId": "908d40d6-e543-47d2-f60f-fb789218cd34"
      },
      "execution_count": 16,
      "outputs": [
        {
          "output_type": "execute_result",
          "data": {
            "text/plain": [
              "0    170\n",
              "1    129\n",
              "Name: anaemia, dtype: int64"
            ]
          },
          "metadata": {},
          "execution_count": 16
        }
      ]
    },
    {
      "cell_type": "code",
      "source": [
        "datos_cardiacos[\"diabetes\"].value_counts()"
      ],
      "metadata": {
        "colab": {
          "base_uri": "https://localhost:8080/"
        },
        "id": "AE2ontjngP14",
        "outputId": "e5353ca5-184c-4651-92c8-378e3936b454"
      },
      "execution_count": 17,
      "outputs": [
        {
          "output_type": "execute_result",
          "data": {
            "text/plain": [
              "0    174\n",
              "1    125\n",
              "Name: diabetes, dtype: int64"
            ]
          },
          "metadata": {},
          "execution_count": 17
        }
      ]
    },
    {
      "cell_type": "code",
      "source": [
        "datos_cardiacos[\"sex\"].value_counts()"
      ],
      "metadata": {
        "colab": {
          "base_uri": "https://localhost:8080/"
        },
        "id": "h13wAgvIgh6u",
        "outputId": "504935ba-b785-434c-b381-ffa803023186"
      },
      "execution_count": 18,
      "outputs": [
        {
          "output_type": "execute_result",
          "data": {
            "text/plain": [
              "1    194\n",
              "0    105\n",
              "Name: sex, dtype: int64"
            ]
          },
          "metadata": {},
          "execution_count": 18
        }
      ]
    },
    {
      "cell_type": "code",
      "source": [
        "datos_cardiacos[\"high_blood_pressure\"].value_counts()"
      ],
      "metadata": {
        "colab": {
          "base_uri": "https://localhost:8080/"
        },
        "id": "PsoYi1dWgleu",
        "outputId": "ceee4d72-6910-4db4-cb76-28fddd5baaff"
      },
      "execution_count": 19,
      "outputs": [
        {
          "output_type": "execute_result",
          "data": {
            "text/plain": [
              "0    194\n",
              "1    105\n",
              "Name: high_blood_pressure, dtype: int64"
            ]
          },
          "metadata": {},
          "execution_count": 19
        }
      ]
    },
    {
      "cell_type": "code",
      "source": [
        "datos_cardiacos[\"smoking\"].value_counts()"
      ],
      "metadata": {
        "colab": {
          "base_uri": "https://localhost:8080/"
        },
        "id": "yF4_on_PgqmF",
        "outputId": "43a5e33b-86ae-4982-f20d-4848081e1a4e"
      },
      "execution_count": 20,
      "outputs": [
        {
          "output_type": "execute_result",
          "data": {
            "text/plain": [
              "0    203\n",
              "1     96\n",
              "Name: smoking, dtype: int64"
            ]
          },
          "metadata": {},
          "execution_count": 20
        }
      ]
    },
    {
      "cell_type": "markdown",
      "source": [
        "Inspeccionemos la variable `ejection_fraction`"
      ],
      "metadata": {
        "id": "PeCrSen7gy7w"
      }
    },
    {
      "cell_type": "code",
      "source": [
        "datos_cardiacos[\"ejection_fraction\"].min(), datos_cardiacos[\"ejection_fraction\"].max()"
      ],
      "metadata": {
        "colab": {
          "base_uri": "https://localhost:8080/"
        },
        "id": "Wv0C9aP7gv1S",
        "outputId": "2e2c190f-2244-4684-c584-a94dca864800"
      },
      "execution_count": 21,
      "outputs": [
        {
          "output_type": "execute_result",
          "data": {
            "text/plain": [
              "(14, 80)"
            ]
          },
          "metadata": {},
          "execution_count": 21
        }
      ]
    },
    {
      "cell_type": "markdown",
      "source": [
        "#### Escalado de variables"
      ],
      "metadata": {
        "id": "kwdLLmdjhHgY"
      }
    },
    {
      "cell_type": "markdown",
      "source": [
        "A todas las variables numéricas las vamos a trabajar para que todas estén en la misma escala.\n",
        "\n",
        "En este caso, todas estarán entre 0 y 1."
      ],
      "metadata": {
        "id": "r3Am36PzhO5b"
      }
    },
    {
      "cell_type": "code",
      "source": [
        "variables_numericas = [\n",
        "    \"age\",\n",
        "    \"creatinine_phosphokinase\",\n",
        "    \"ejection_fraction\",\n",
        "    \"platelets\",\n",
        "    \"serum_creatinine\",\n",
        "    \"serum_sodium\"\n",
        "]"
      ],
      "metadata": {
        "id": "VzdphxGahAUk"
      },
      "execution_count": 22,
      "outputs": []
    },
    {
      "cell_type": "code",
      "source": [
        "datos_cardiacos[variables_numericas]"
      ],
      "metadata": {
        "colab": {
          "base_uri": "https://localhost:8080/",
          "height": 423
        },
        "id": "ifxYKO-whz3p",
        "outputId": "9c89882c-aa3f-4086-d398-8670737a81b8"
      },
      "execution_count": 23,
      "outputs": [
        {
          "output_type": "execute_result",
          "data": {
            "text/plain": [
              "      age  creatinine_phosphokinase  ejection_fraction  platelets  \\\n",
              "0    75.0                       582                 20  265000.00   \n",
              "1    55.0                      7861                 38  263358.03   \n",
              "2    65.0                       146                 20  162000.00   \n",
              "3    50.0                       111                 20  210000.00   \n",
              "4    65.0                       160                 20  327000.00   \n",
              "..    ...                       ...                ...        ...   \n",
              "294  62.0                        61                 38  155000.00   \n",
              "295  55.0                      1820                 38  270000.00   \n",
              "296  45.0                      2060                 60  742000.00   \n",
              "297  45.0                      2413                 38  140000.00   \n",
              "298  50.0                       196                 45  395000.00   \n",
              "\n",
              "     serum_creatinine  serum_sodium  \n",
              "0                 1.9           130  \n",
              "1                 1.1           136  \n",
              "2                 1.3           129  \n",
              "3                 1.9           137  \n",
              "4                 2.7           116  \n",
              "..                ...           ...  \n",
              "294               1.1           143  \n",
              "295               1.2           139  \n",
              "296               0.8           138  \n",
              "297               1.4           140  \n",
              "298               1.6           136  \n",
              "\n",
              "[299 rows x 6 columns]"
            ],
            "text/html": [
              "\n",
              "  <div id=\"df-bb5ad684-721b-4829-b6f0-03b85f39151e\" class=\"colab-df-container\">\n",
              "    <div>\n",
              "<style scoped>\n",
              "    .dataframe tbody tr th:only-of-type {\n",
              "        vertical-align: middle;\n",
              "    }\n",
              "\n",
              "    .dataframe tbody tr th {\n",
              "        vertical-align: top;\n",
              "    }\n",
              "\n",
              "    .dataframe thead th {\n",
              "        text-align: right;\n",
              "    }\n",
              "</style>\n",
              "<table border=\"1\" class=\"dataframe\">\n",
              "  <thead>\n",
              "    <tr style=\"text-align: right;\">\n",
              "      <th></th>\n",
              "      <th>age</th>\n",
              "      <th>creatinine_phosphokinase</th>\n",
              "      <th>ejection_fraction</th>\n",
              "      <th>platelets</th>\n",
              "      <th>serum_creatinine</th>\n",
              "      <th>serum_sodium</th>\n",
              "    </tr>\n",
              "  </thead>\n",
              "  <tbody>\n",
              "    <tr>\n",
              "      <th>0</th>\n",
              "      <td>75.0</td>\n",
              "      <td>582</td>\n",
              "      <td>20</td>\n",
              "      <td>265000.00</td>\n",
              "      <td>1.9</td>\n",
              "      <td>130</td>\n",
              "    </tr>\n",
              "    <tr>\n",
              "      <th>1</th>\n",
              "      <td>55.0</td>\n",
              "      <td>7861</td>\n",
              "      <td>38</td>\n",
              "      <td>263358.03</td>\n",
              "      <td>1.1</td>\n",
              "      <td>136</td>\n",
              "    </tr>\n",
              "    <tr>\n",
              "      <th>2</th>\n",
              "      <td>65.0</td>\n",
              "      <td>146</td>\n",
              "      <td>20</td>\n",
              "      <td>162000.00</td>\n",
              "      <td>1.3</td>\n",
              "      <td>129</td>\n",
              "    </tr>\n",
              "    <tr>\n",
              "      <th>3</th>\n",
              "      <td>50.0</td>\n",
              "      <td>111</td>\n",
              "      <td>20</td>\n",
              "      <td>210000.00</td>\n",
              "      <td>1.9</td>\n",
              "      <td>137</td>\n",
              "    </tr>\n",
              "    <tr>\n",
              "      <th>4</th>\n",
              "      <td>65.0</td>\n",
              "      <td>160</td>\n",
              "      <td>20</td>\n",
              "      <td>327000.00</td>\n",
              "      <td>2.7</td>\n",
              "      <td>116</td>\n",
              "    </tr>\n",
              "    <tr>\n",
              "      <th>...</th>\n",
              "      <td>...</td>\n",
              "      <td>...</td>\n",
              "      <td>...</td>\n",
              "      <td>...</td>\n",
              "      <td>...</td>\n",
              "      <td>...</td>\n",
              "    </tr>\n",
              "    <tr>\n",
              "      <th>294</th>\n",
              "      <td>62.0</td>\n",
              "      <td>61</td>\n",
              "      <td>38</td>\n",
              "      <td>155000.00</td>\n",
              "      <td>1.1</td>\n",
              "      <td>143</td>\n",
              "    </tr>\n",
              "    <tr>\n",
              "      <th>295</th>\n",
              "      <td>55.0</td>\n",
              "      <td>1820</td>\n",
              "      <td>38</td>\n",
              "      <td>270000.00</td>\n",
              "      <td>1.2</td>\n",
              "      <td>139</td>\n",
              "    </tr>\n",
              "    <tr>\n",
              "      <th>296</th>\n",
              "      <td>45.0</td>\n",
              "      <td>2060</td>\n",
              "      <td>60</td>\n",
              "      <td>742000.00</td>\n",
              "      <td>0.8</td>\n",
              "      <td>138</td>\n",
              "    </tr>\n",
              "    <tr>\n",
              "      <th>297</th>\n",
              "      <td>45.0</td>\n",
              "      <td>2413</td>\n",
              "      <td>38</td>\n",
              "      <td>140000.00</td>\n",
              "      <td>1.4</td>\n",
              "      <td>140</td>\n",
              "    </tr>\n",
              "    <tr>\n",
              "      <th>298</th>\n",
              "      <td>50.0</td>\n",
              "      <td>196</td>\n",
              "      <td>45</td>\n",
              "      <td>395000.00</td>\n",
              "      <td>1.6</td>\n",
              "      <td>136</td>\n",
              "    </tr>\n",
              "  </tbody>\n",
              "</table>\n",
              "<p>299 rows × 6 columns</p>\n",
              "</div>\n",
              "    <div class=\"colab-df-buttons\">\n",
              "\n",
              "  <div class=\"colab-df-container\">\n",
              "    <button class=\"colab-df-convert\" onclick=\"convertToInteractive('df-bb5ad684-721b-4829-b6f0-03b85f39151e')\"\n",
              "            title=\"Convert this dataframe to an interactive table.\"\n",
              "            style=\"display:none;\">\n",
              "\n",
              "  <svg xmlns=\"http://www.w3.org/2000/svg\" height=\"24px\" viewBox=\"0 -960 960 960\">\n",
              "    <path d=\"M120-120v-720h720v720H120Zm60-500h600v-160H180v160Zm220 220h160v-160H400v160Zm0 220h160v-160H400v160ZM180-400h160v-160H180v160Zm440 0h160v-160H620v160ZM180-180h160v-160H180v160Zm440 0h160v-160H620v160Z\"/>\n",
              "  </svg>\n",
              "    </button>\n",
              "\n",
              "  <style>\n",
              "    .colab-df-container {\n",
              "      display:flex;\n",
              "      gap: 12px;\n",
              "    }\n",
              "\n",
              "    .colab-df-convert {\n",
              "      background-color: #E8F0FE;\n",
              "      border: none;\n",
              "      border-radius: 50%;\n",
              "      cursor: pointer;\n",
              "      display: none;\n",
              "      fill: #1967D2;\n",
              "      height: 32px;\n",
              "      padding: 0 0 0 0;\n",
              "      width: 32px;\n",
              "    }\n",
              "\n",
              "    .colab-df-convert:hover {\n",
              "      background-color: #E2EBFA;\n",
              "      box-shadow: 0px 1px 2px rgba(60, 64, 67, 0.3), 0px 1px 3px 1px rgba(60, 64, 67, 0.15);\n",
              "      fill: #174EA6;\n",
              "    }\n",
              "\n",
              "    .colab-df-buttons div {\n",
              "      margin-bottom: 4px;\n",
              "    }\n",
              "\n",
              "    [theme=dark] .colab-df-convert {\n",
              "      background-color: #3B4455;\n",
              "      fill: #D2E3FC;\n",
              "    }\n",
              "\n",
              "    [theme=dark] .colab-df-convert:hover {\n",
              "      background-color: #434B5C;\n",
              "      box-shadow: 0px 1px 3px 1px rgba(0, 0, 0, 0.15);\n",
              "      filter: drop-shadow(0px 1px 2px rgba(0, 0, 0, 0.3));\n",
              "      fill: #FFFFFF;\n",
              "    }\n",
              "  </style>\n",
              "\n",
              "    <script>\n",
              "      const buttonEl =\n",
              "        document.querySelector('#df-bb5ad684-721b-4829-b6f0-03b85f39151e button.colab-df-convert');\n",
              "      buttonEl.style.display =\n",
              "        google.colab.kernel.accessAllowed ? 'block' : 'none';\n",
              "\n",
              "      async function convertToInteractive(key) {\n",
              "        const element = document.querySelector('#df-bb5ad684-721b-4829-b6f0-03b85f39151e');\n",
              "        const dataTable =\n",
              "          await google.colab.kernel.invokeFunction('convertToInteractive',\n",
              "                                                    [key], {});\n",
              "        if (!dataTable) return;\n",
              "\n",
              "        const docLinkHtml = 'Like what you see? Visit the ' +\n",
              "          '<a target=\"_blank\" href=https://colab.research.google.com/notebooks/data_table.ipynb>data table notebook</a>'\n",
              "          + ' to learn more about interactive tables.';\n",
              "        element.innerHTML = '';\n",
              "        dataTable['output_type'] = 'display_data';\n",
              "        await google.colab.output.renderOutput(dataTable, element);\n",
              "        const docLink = document.createElement('div');\n",
              "        docLink.innerHTML = docLinkHtml;\n",
              "        element.appendChild(docLink);\n",
              "      }\n",
              "    </script>\n",
              "  </div>\n",
              "\n",
              "\n",
              "<div id=\"df-ccf38718-85ee-41a7-9462-76a6aa9c5e57\">\n",
              "  <button class=\"colab-df-quickchart\" onclick=\"quickchart('df-ccf38718-85ee-41a7-9462-76a6aa9c5e57')\"\n",
              "            title=\"Suggest charts.\"\n",
              "            style=\"display:none;\">\n",
              "\n",
              "<svg xmlns=\"http://www.w3.org/2000/svg\" height=\"24px\"viewBox=\"0 0 24 24\"\n",
              "     width=\"24px\">\n",
              "    <g>\n",
              "        <path d=\"M19 3H5c-1.1 0-2 .9-2 2v14c0 1.1.9 2 2 2h14c1.1 0 2-.9 2-2V5c0-1.1-.9-2-2-2zM9 17H7v-7h2v7zm4 0h-2V7h2v10zm4 0h-2v-4h2v4z\"/>\n",
              "    </g>\n",
              "</svg>\n",
              "  </button>\n",
              "\n",
              "<style>\n",
              "  .colab-df-quickchart {\n",
              "    background-color: #E8F0FE;\n",
              "    border: none;\n",
              "    border-radius: 50%;\n",
              "    cursor: pointer;\n",
              "    display: none;\n",
              "    fill: #1967D2;\n",
              "    height: 32px;\n",
              "    padding: 0 0 0 0;\n",
              "    width: 32px;\n",
              "  }\n",
              "\n",
              "  .colab-df-quickchart:hover {\n",
              "    background-color: #E2EBFA;\n",
              "    box-shadow: 0px 1px 2px rgba(60, 64, 67, 0.3), 0px 1px 3px 1px rgba(60, 64, 67, 0.15);\n",
              "    fill: #174EA6;\n",
              "  }\n",
              "\n",
              "  [theme=dark] .colab-df-quickchart {\n",
              "    background-color: #3B4455;\n",
              "    fill: #D2E3FC;\n",
              "  }\n",
              "\n",
              "  [theme=dark] .colab-df-quickchart:hover {\n",
              "    background-color: #434B5C;\n",
              "    box-shadow: 0px 1px 3px 1px rgba(0, 0, 0, 0.15);\n",
              "    filter: drop-shadow(0px 1px 2px rgba(0, 0, 0, 0.3));\n",
              "    fill: #FFFFFF;\n",
              "  }\n",
              "</style>\n",
              "\n",
              "  <script>\n",
              "    async function quickchart(key) {\n",
              "      const charts = await google.colab.kernel.invokeFunction(\n",
              "          'suggestCharts', [key], {});\n",
              "    }\n",
              "    (() => {\n",
              "      let quickchartButtonEl =\n",
              "        document.querySelector('#df-ccf38718-85ee-41a7-9462-76a6aa9c5e57 button');\n",
              "      quickchartButtonEl.style.display =\n",
              "        google.colab.kernel.accessAllowed ? 'block' : 'none';\n",
              "    })();\n",
              "  </script>\n",
              "</div>\n",
              "    </div>\n",
              "  </div>\n"
            ]
          },
          "metadata": {},
          "execution_count": 23
        }
      ]
    },
    {
      "cell_type": "markdown",
      "source": [
        "### Entrenamiento de modelo de regresión logística"
      ],
      "metadata": {
        "id": "nPot2hhqig5R"
      }
    },
    {
      "cell_type": "code",
      "source": [
        "from sklearn.model_selection import train_test_split\n",
        "from sklearn.linear_model import LogisticRegression\n",
        "from sklearn.preprocessing import MinMaxScaler\n",
        "from sklearn.metrics import accuracy_score, confusion_matrix"
      ],
      "metadata": {
        "id": "DnnbQBEOkmm7"
      },
      "execution_count": 24,
      "outputs": []
    },
    {
      "cell_type": "code",
      "source": [
        "# separo en mis datos en conjuntos de train y test\n",
        "y = datos_cardiacos[\"DEATH_EVENT\"]\n",
        "X = datos_cardiacos.drop(\"DEATH_EVENT\", axis=1)\n",
        "\n",
        "X_train, X_test, y_train, y_test = train_test_split(X, y, test_size=0.2, random_state=42)"
      ],
      "metadata": {
        "id": "RHK-lRx-krvw"
      },
      "execution_count": 25,
      "outputs": []
    },
    {
      "cell_type": "code",
      "source": [
        "# uso un escalador de minmax\n",
        "scaler = MinMaxScaler()\n",
        "\n",
        "# se buscan los máximos y mínimos del conjunto de entrenamiento y con eso\n",
        "# se transforman los datos\n",
        "X_train_scaled = scaler.fit_transform(X_train)\n",
        "\n",
        "# aplicamos la transformación al de prueba\n",
        "X_test_scaled = scaler.transform(X_test)"
      ],
      "metadata": {
        "id": "CDFr-KH4pw_g"
      },
      "execution_count": 26,
      "outputs": []
    },
    {
      "cell_type": "code",
      "source": [
        "# creo al modelo logístico\n",
        "modelo_logistico = LogisticRegression()\n",
        "\n",
        "# entreno\n",
        "modelo_logistico.fit(X_train_scaled, y_train)"
      ],
      "metadata": {
        "colab": {
          "base_uri": "https://localhost:8080/",
          "height": 74
        },
        "id": "9f6sDjxqoZ58",
        "outputId": "fed9dc86-2bfd-4458-a7d2-8cdab33278d5"
      },
      "execution_count": 27,
      "outputs": [
        {
          "output_type": "execute_result",
          "data": {
            "text/plain": [
              "LogisticRegression()"
            ],
            "text/html": [
              "<style>#sk-container-id-1 {color: black;background-color: white;}#sk-container-id-1 pre{padding: 0;}#sk-container-id-1 div.sk-toggleable {background-color: white;}#sk-container-id-1 label.sk-toggleable__label {cursor: pointer;display: block;width: 100%;margin-bottom: 0;padding: 0.3em;box-sizing: border-box;text-align: center;}#sk-container-id-1 label.sk-toggleable__label-arrow:before {content: \"▸\";float: left;margin-right: 0.25em;color: #696969;}#sk-container-id-1 label.sk-toggleable__label-arrow:hover:before {color: black;}#sk-container-id-1 div.sk-estimator:hover label.sk-toggleable__label-arrow:before {color: black;}#sk-container-id-1 div.sk-toggleable__content {max-height: 0;max-width: 0;overflow: hidden;text-align: left;background-color: #f0f8ff;}#sk-container-id-1 div.sk-toggleable__content pre {margin: 0.2em;color: black;border-radius: 0.25em;background-color: #f0f8ff;}#sk-container-id-1 input.sk-toggleable__control:checked~div.sk-toggleable__content {max-height: 200px;max-width: 100%;overflow: auto;}#sk-container-id-1 input.sk-toggleable__control:checked~label.sk-toggleable__label-arrow:before {content: \"▾\";}#sk-container-id-1 div.sk-estimator input.sk-toggleable__control:checked~label.sk-toggleable__label {background-color: #d4ebff;}#sk-container-id-1 div.sk-label input.sk-toggleable__control:checked~label.sk-toggleable__label {background-color: #d4ebff;}#sk-container-id-1 input.sk-hidden--visually {border: 0;clip: rect(1px 1px 1px 1px);clip: rect(1px, 1px, 1px, 1px);height: 1px;margin: -1px;overflow: hidden;padding: 0;position: absolute;width: 1px;}#sk-container-id-1 div.sk-estimator {font-family: monospace;background-color: #f0f8ff;border: 1px dotted black;border-radius: 0.25em;box-sizing: border-box;margin-bottom: 0.5em;}#sk-container-id-1 div.sk-estimator:hover {background-color: #d4ebff;}#sk-container-id-1 div.sk-parallel-item::after {content: \"\";width: 100%;border-bottom: 1px solid gray;flex-grow: 1;}#sk-container-id-1 div.sk-label:hover label.sk-toggleable__label {background-color: #d4ebff;}#sk-container-id-1 div.sk-serial::before {content: \"\";position: absolute;border-left: 1px solid gray;box-sizing: border-box;top: 0;bottom: 0;left: 50%;z-index: 0;}#sk-container-id-1 div.sk-serial {display: flex;flex-direction: column;align-items: center;background-color: white;padding-right: 0.2em;padding-left: 0.2em;position: relative;}#sk-container-id-1 div.sk-item {position: relative;z-index: 1;}#sk-container-id-1 div.sk-parallel {display: flex;align-items: stretch;justify-content: center;background-color: white;position: relative;}#sk-container-id-1 div.sk-item::before, #sk-container-id-1 div.sk-parallel-item::before {content: \"\";position: absolute;border-left: 1px solid gray;box-sizing: border-box;top: 0;bottom: 0;left: 50%;z-index: -1;}#sk-container-id-1 div.sk-parallel-item {display: flex;flex-direction: column;z-index: 1;position: relative;background-color: white;}#sk-container-id-1 div.sk-parallel-item:first-child::after {align-self: flex-end;width: 50%;}#sk-container-id-1 div.sk-parallel-item:last-child::after {align-self: flex-start;width: 50%;}#sk-container-id-1 div.sk-parallel-item:only-child::after {width: 0;}#sk-container-id-1 div.sk-dashed-wrapped {border: 1px dashed gray;margin: 0 0.4em 0.5em 0.4em;box-sizing: border-box;padding-bottom: 0.4em;background-color: white;}#sk-container-id-1 div.sk-label label {font-family: monospace;font-weight: bold;display: inline-block;line-height: 1.2em;}#sk-container-id-1 div.sk-label-container {text-align: center;}#sk-container-id-1 div.sk-container {/* jupyter's `normalize.less` sets `[hidden] { display: none; }` but bootstrap.min.css set `[hidden] { display: none !important; }` so we also need the `!important` here to be able to override the default hidden behavior on the sphinx rendered scikit-learn.org. See: https://github.com/scikit-learn/scikit-learn/issues/21755 */display: inline-block !important;position: relative;}#sk-container-id-1 div.sk-text-repr-fallback {display: none;}</style><div id=\"sk-container-id-1\" class=\"sk-top-container\"><div class=\"sk-text-repr-fallback\"><pre>LogisticRegression()</pre><b>In a Jupyter environment, please rerun this cell to show the HTML representation or trust the notebook. <br />On GitHub, the HTML representation is unable to render, please try loading this page with nbviewer.org.</b></div><div class=\"sk-container\" hidden><div class=\"sk-item\"><div class=\"sk-estimator sk-toggleable\"><input class=\"sk-toggleable__control sk-hidden--visually\" id=\"sk-estimator-id-1\" type=\"checkbox\" checked><label for=\"sk-estimator-id-1\" class=\"sk-toggleable__label sk-toggleable__label-arrow\">LogisticRegression</label><div class=\"sk-toggleable__content\"><pre>LogisticRegression()</pre></div></div></div></div></div>"
            ]
          },
          "metadata": {},
          "execution_count": 27
        }
      ]
    },
    {
      "cell_type": "code",
      "source": [
        "# hago pruebas con el test escalado\n",
        "y_pred = modelo_logistico.predict(X_test_scaled)\n",
        "y_pred"
      ],
      "metadata": {
        "colab": {
          "base_uri": "https://localhost:8080/"
        },
        "id": "36XXNvJyog4V",
        "outputId": "d550a22c-aace-4a79-c838-891a6bd86351"
      },
      "execution_count": 28,
      "outputs": [
        {
          "output_type": "execute_result",
          "data": {
            "text/plain": [
              "array([0, 0, 0, 1, 0, 0, 0, 0, 1, 0, 0, 0, 0, 0, 0, 0, 0, 0, 0, 0, 0, 0,\n",
              "       0, 0, 0, 0, 0, 0, 0, 0, 0, 0, 0, 1, 0, 0, 0, 0, 0, 0, 0, 1, 0, 0,\n",
              "       0, 0, 0, 0, 0, 0, 1, 0, 0, 0, 0, 0, 0, 0, 0, 1])"
            ]
          },
          "metadata": {},
          "execution_count": 28
        }
      ]
    },
    {
      "cell_type": "code",
      "source": [
        "y_test.values"
      ],
      "metadata": {
        "colab": {
          "base_uri": "https://localhost:8080/"
        },
        "id": "7dykipIIokn2",
        "outputId": "1070866f-537b-4f5a-85e6-19637fac8caa"
      },
      "execution_count": 29,
      "outputs": [
        {
          "output_type": "execute_result",
          "data": {
            "text/plain": [
              "array([0, 0, 1, 1, 0, 0, 1, 0, 1, 0, 0, 1, 1, 0, 0, 1, 0, 0, 1, 1, 0, 0,\n",
              "       0, 1, 1, 0, 0, 0, 1, 0, 1, 0, 0, 1, 1, 1, 1, 1, 0, 0, 1, 1, 0, 0,\n",
              "       0, 0, 0, 0, 0, 0, 1, 1, 1, 0, 0, 0, 0, 1, 0, 1])"
            ]
          },
          "metadata": {},
          "execution_count": 29
        }
      ]
    },
    {
      "cell_type": "code",
      "source": [
        "accuracy_score(y_test, y_pred)"
      ],
      "metadata": {
        "colab": {
          "base_uri": "https://localhost:8080/"
        },
        "id": "kbrAdoM0on9J",
        "outputId": "52c4416b-b3c7-4ec4-f0e5-df8b8b3ca542"
      },
      "execution_count": 30,
      "outputs": [
        {
          "output_type": "execute_result",
          "data": {
            "text/plain": [
              "0.6833333333333333"
            ]
          },
          "metadata": {},
          "execution_count": 30
        }
      ]
    },
    {
      "cell_type": "markdown",
      "source": [
        "### Regresión lineal (regresión)"
      ],
      "metadata": {
        "id": "1HvhpkDjo7uq"
      }
    },
    {
      "cell_type": "markdown",
      "source": [
        "Buscamos predecir una variable numérica, como puede ser la edad.\n",
        "\n",
        "Entonces, la salida del modelo es la edad, y la entrada del modelo es todo el resto, incluso si la persona murió o no."
      ],
      "metadata": {
        "id": "8YKSW3xmpBPM"
      }
    },
    {
      "cell_type": "code",
      "source": [
        "datos_cardiacos"
      ],
      "metadata": {
        "colab": {
          "base_uri": "https://localhost:8080/",
          "height": 443
        },
        "id": "eyb4izQRo69F",
        "outputId": "ef75a788-6fca-4020-e8b8-72250a39c8a6"
      },
      "execution_count": 31,
      "outputs": [
        {
          "output_type": "execute_result",
          "data": {
            "text/plain": [
              "      age  anaemia  creatinine_phosphokinase  diabetes  ejection_fraction  \\\n",
              "0    75.0        0                       582         0                 20   \n",
              "1    55.0        0                      7861         0                 38   \n",
              "2    65.0        0                       146         0                 20   \n",
              "3    50.0        1                       111         0                 20   \n",
              "4    65.0        1                       160         1                 20   \n",
              "..    ...      ...                       ...       ...                ...   \n",
              "294  62.0        0                        61         1                 38   \n",
              "295  55.0        0                      1820         0                 38   \n",
              "296  45.0        0                      2060         1                 60   \n",
              "297  45.0        0                      2413         0                 38   \n",
              "298  50.0        0                       196         0                 45   \n",
              "\n",
              "     high_blood_pressure  platelets  serum_creatinine  serum_sodium  sex  \\\n",
              "0                      1  265000.00               1.9           130    1   \n",
              "1                      0  263358.03               1.1           136    1   \n",
              "2                      0  162000.00               1.3           129    1   \n",
              "3                      0  210000.00               1.9           137    1   \n",
              "4                      0  327000.00               2.7           116    0   \n",
              "..                   ...        ...               ...           ...  ...   \n",
              "294                    1  155000.00               1.1           143    1   \n",
              "295                    0  270000.00               1.2           139    0   \n",
              "296                    0  742000.00               0.8           138    0   \n",
              "297                    0  140000.00               1.4           140    1   \n",
              "298                    0  395000.00               1.6           136    1   \n",
              "\n",
              "     smoking  DEATH_EVENT  \n",
              "0          0            1  \n",
              "1          0            1  \n",
              "2          1            1  \n",
              "3          0            1  \n",
              "4          0            1  \n",
              "..       ...          ...  \n",
              "294        1            0  \n",
              "295        0            0  \n",
              "296        0            0  \n",
              "297        1            0  \n",
              "298        1            0  \n",
              "\n",
              "[299 rows x 12 columns]"
            ],
            "text/html": [
              "\n",
              "  <div id=\"df-bccdbb47-bc9d-4431-b4d8-f78a02424e6b\" class=\"colab-df-container\">\n",
              "    <div>\n",
              "<style scoped>\n",
              "    .dataframe tbody tr th:only-of-type {\n",
              "        vertical-align: middle;\n",
              "    }\n",
              "\n",
              "    .dataframe tbody tr th {\n",
              "        vertical-align: top;\n",
              "    }\n",
              "\n",
              "    .dataframe thead th {\n",
              "        text-align: right;\n",
              "    }\n",
              "</style>\n",
              "<table border=\"1\" class=\"dataframe\">\n",
              "  <thead>\n",
              "    <tr style=\"text-align: right;\">\n",
              "      <th></th>\n",
              "      <th>age</th>\n",
              "      <th>anaemia</th>\n",
              "      <th>creatinine_phosphokinase</th>\n",
              "      <th>diabetes</th>\n",
              "      <th>ejection_fraction</th>\n",
              "      <th>high_blood_pressure</th>\n",
              "      <th>platelets</th>\n",
              "      <th>serum_creatinine</th>\n",
              "      <th>serum_sodium</th>\n",
              "      <th>sex</th>\n",
              "      <th>smoking</th>\n",
              "      <th>DEATH_EVENT</th>\n",
              "    </tr>\n",
              "  </thead>\n",
              "  <tbody>\n",
              "    <tr>\n",
              "      <th>0</th>\n",
              "      <td>75.0</td>\n",
              "      <td>0</td>\n",
              "      <td>582</td>\n",
              "      <td>0</td>\n",
              "      <td>20</td>\n",
              "      <td>1</td>\n",
              "      <td>265000.00</td>\n",
              "      <td>1.9</td>\n",
              "      <td>130</td>\n",
              "      <td>1</td>\n",
              "      <td>0</td>\n",
              "      <td>1</td>\n",
              "    </tr>\n",
              "    <tr>\n",
              "      <th>1</th>\n",
              "      <td>55.0</td>\n",
              "      <td>0</td>\n",
              "      <td>7861</td>\n",
              "      <td>0</td>\n",
              "      <td>38</td>\n",
              "      <td>0</td>\n",
              "      <td>263358.03</td>\n",
              "      <td>1.1</td>\n",
              "      <td>136</td>\n",
              "      <td>1</td>\n",
              "      <td>0</td>\n",
              "      <td>1</td>\n",
              "    </tr>\n",
              "    <tr>\n",
              "      <th>2</th>\n",
              "      <td>65.0</td>\n",
              "      <td>0</td>\n",
              "      <td>146</td>\n",
              "      <td>0</td>\n",
              "      <td>20</td>\n",
              "      <td>0</td>\n",
              "      <td>162000.00</td>\n",
              "      <td>1.3</td>\n",
              "      <td>129</td>\n",
              "      <td>1</td>\n",
              "      <td>1</td>\n",
              "      <td>1</td>\n",
              "    </tr>\n",
              "    <tr>\n",
              "      <th>3</th>\n",
              "      <td>50.0</td>\n",
              "      <td>1</td>\n",
              "      <td>111</td>\n",
              "      <td>0</td>\n",
              "      <td>20</td>\n",
              "      <td>0</td>\n",
              "      <td>210000.00</td>\n",
              "      <td>1.9</td>\n",
              "      <td>137</td>\n",
              "      <td>1</td>\n",
              "      <td>0</td>\n",
              "      <td>1</td>\n",
              "    </tr>\n",
              "    <tr>\n",
              "      <th>4</th>\n",
              "      <td>65.0</td>\n",
              "      <td>1</td>\n",
              "      <td>160</td>\n",
              "      <td>1</td>\n",
              "      <td>20</td>\n",
              "      <td>0</td>\n",
              "      <td>327000.00</td>\n",
              "      <td>2.7</td>\n",
              "      <td>116</td>\n",
              "      <td>0</td>\n",
              "      <td>0</td>\n",
              "      <td>1</td>\n",
              "    </tr>\n",
              "    <tr>\n",
              "      <th>...</th>\n",
              "      <td>...</td>\n",
              "      <td>...</td>\n",
              "      <td>...</td>\n",
              "      <td>...</td>\n",
              "      <td>...</td>\n",
              "      <td>...</td>\n",
              "      <td>...</td>\n",
              "      <td>...</td>\n",
              "      <td>...</td>\n",
              "      <td>...</td>\n",
              "      <td>...</td>\n",
              "      <td>...</td>\n",
              "    </tr>\n",
              "    <tr>\n",
              "      <th>294</th>\n",
              "      <td>62.0</td>\n",
              "      <td>0</td>\n",
              "      <td>61</td>\n",
              "      <td>1</td>\n",
              "      <td>38</td>\n",
              "      <td>1</td>\n",
              "      <td>155000.00</td>\n",
              "      <td>1.1</td>\n",
              "      <td>143</td>\n",
              "      <td>1</td>\n",
              "      <td>1</td>\n",
              "      <td>0</td>\n",
              "    </tr>\n",
              "    <tr>\n",
              "      <th>295</th>\n",
              "      <td>55.0</td>\n",
              "      <td>0</td>\n",
              "      <td>1820</td>\n",
              "      <td>0</td>\n",
              "      <td>38</td>\n",
              "      <td>0</td>\n",
              "      <td>270000.00</td>\n",
              "      <td>1.2</td>\n",
              "      <td>139</td>\n",
              "      <td>0</td>\n",
              "      <td>0</td>\n",
              "      <td>0</td>\n",
              "    </tr>\n",
              "    <tr>\n",
              "      <th>296</th>\n",
              "      <td>45.0</td>\n",
              "      <td>0</td>\n",
              "      <td>2060</td>\n",
              "      <td>1</td>\n",
              "      <td>60</td>\n",
              "      <td>0</td>\n",
              "      <td>742000.00</td>\n",
              "      <td>0.8</td>\n",
              "      <td>138</td>\n",
              "      <td>0</td>\n",
              "      <td>0</td>\n",
              "      <td>0</td>\n",
              "    </tr>\n",
              "    <tr>\n",
              "      <th>297</th>\n",
              "      <td>45.0</td>\n",
              "      <td>0</td>\n",
              "      <td>2413</td>\n",
              "      <td>0</td>\n",
              "      <td>38</td>\n",
              "      <td>0</td>\n",
              "      <td>140000.00</td>\n",
              "      <td>1.4</td>\n",
              "      <td>140</td>\n",
              "      <td>1</td>\n",
              "      <td>1</td>\n",
              "      <td>0</td>\n",
              "    </tr>\n",
              "    <tr>\n",
              "      <th>298</th>\n",
              "      <td>50.0</td>\n",
              "      <td>0</td>\n",
              "      <td>196</td>\n",
              "      <td>0</td>\n",
              "      <td>45</td>\n",
              "      <td>0</td>\n",
              "      <td>395000.00</td>\n",
              "      <td>1.6</td>\n",
              "      <td>136</td>\n",
              "      <td>1</td>\n",
              "      <td>1</td>\n",
              "      <td>0</td>\n",
              "    </tr>\n",
              "  </tbody>\n",
              "</table>\n",
              "<p>299 rows × 12 columns</p>\n",
              "</div>\n",
              "    <div class=\"colab-df-buttons\">\n",
              "\n",
              "  <div class=\"colab-df-container\">\n",
              "    <button class=\"colab-df-convert\" onclick=\"convertToInteractive('df-bccdbb47-bc9d-4431-b4d8-f78a02424e6b')\"\n",
              "            title=\"Convert this dataframe to an interactive table.\"\n",
              "            style=\"display:none;\">\n",
              "\n",
              "  <svg xmlns=\"http://www.w3.org/2000/svg\" height=\"24px\" viewBox=\"0 -960 960 960\">\n",
              "    <path d=\"M120-120v-720h720v720H120Zm60-500h600v-160H180v160Zm220 220h160v-160H400v160Zm0 220h160v-160H400v160ZM180-400h160v-160H180v160Zm440 0h160v-160H620v160ZM180-180h160v-160H180v160Zm440 0h160v-160H620v160Z\"/>\n",
              "  </svg>\n",
              "    </button>\n",
              "\n",
              "  <style>\n",
              "    .colab-df-container {\n",
              "      display:flex;\n",
              "      gap: 12px;\n",
              "    }\n",
              "\n",
              "    .colab-df-convert {\n",
              "      background-color: #E8F0FE;\n",
              "      border: none;\n",
              "      border-radius: 50%;\n",
              "      cursor: pointer;\n",
              "      display: none;\n",
              "      fill: #1967D2;\n",
              "      height: 32px;\n",
              "      padding: 0 0 0 0;\n",
              "      width: 32px;\n",
              "    }\n",
              "\n",
              "    .colab-df-convert:hover {\n",
              "      background-color: #E2EBFA;\n",
              "      box-shadow: 0px 1px 2px rgba(60, 64, 67, 0.3), 0px 1px 3px 1px rgba(60, 64, 67, 0.15);\n",
              "      fill: #174EA6;\n",
              "    }\n",
              "\n",
              "    .colab-df-buttons div {\n",
              "      margin-bottom: 4px;\n",
              "    }\n",
              "\n",
              "    [theme=dark] .colab-df-convert {\n",
              "      background-color: #3B4455;\n",
              "      fill: #D2E3FC;\n",
              "    }\n",
              "\n",
              "    [theme=dark] .colab-df-convert:hover {\n",
              "      background-color: #434B5C;\n",
              "      box-shadow: 0px 1px 3px 1px rgba(0, 0, 0, 0.15);\n",
              "      filter: drop-shadow(0px 1px 2px rgba(0, 0, 0, 0.3));\n",
              "      fill: #FFFFFF;\n",
              "    }\n",
              "  </style>\n",
              "\n",
              "    <script>\n",
              "      const buttonEl =\n",
              "        document.querySelector('#df-bccdbb47-bc9d-4431-b4d8-f78a02424e6b button.colab-df-convert');\n",
              "      buttonEl.style.display =\n",
              "        google.colab.kernel.accessAllowed ? 'block' : 'none';\n",
              "\n",
              "      async function convertToInteractive(key) {\n",
              "        const element = document.querySelector('#df-bccdbb47-bc9d-4431-b4d8-f78a02424e6b');\n",
              "        const dataTable =\n",
              "          await google.colab.kernel.invokeFunction('convertToInteractive',\n",
              "                                                    [key], {});\n",
              "        if (!dataTable) return;\n",
              "\n",
              "        const docLinkHtml = 'Like what you see? Visit the ' +\n",
              "          '<a target=\"_blank\" href=https://colab.research.google.com/notebooks/data_table.ipynb>data table notebook</a>'\n",
              "          + ' to learn more about interactive tables.';\n",
              "        element.innerHTML = '';\n",
              "        dataTable['output_type'] = 'display_data';\n",
              "        await google.colab.output.renderOutput(dataTable, element);\n",
              "        const docLink = document.createElement('div');\n",
              "        docLink.innerHTML = docLinkHtml;\n",
              "        element.appendChild(docLink);\n",
              "      }\n",
              "    </script>\n",
              "  </div>\n",
              "\n",
              "\n",
              "<div id=\"df-87c14a34-d5a6-470a-bdfa-756dbadc729c\">\n",
              "  <button class=\"colab-df-quickchart\" onclick=\"quickchart('df-87c14a34-d5a6-470a-bdfa-756dbadc729c')\"\n",
              "            title=\"Suggest charts.\"\n",
              "            style=\"display:none;\">\n",
              "\n",
              "<svg xmlns=\"http://www.w3.org/2000/svg\" height=\"24px\"viewBox=\"0 0 24 24\"\n",
              "     width=\"24px\">\n",
              "    <g>\n",
              "        <path d=\"M19 3H5c-1.1 0-2 .9-2 2v14c0 1.1.9 2 2 2h14c1.1 0 2-.9 2-2V5c0-1.1-.9-2-2-2zM9 17H7v-7h2v7zm4 0h-2V7h2v10zm4 0h-2v-4h2v4z\"/>\n",
              "    </g>\n",
              "</svg>\n",
              "  </button>\n",
              "\n",
              "<style>\n",
              "  .colab-df-quickchart {\n",
              "    background-color: #E8F0FE;\n",
              "    border: none;\n",
              "    border-radius: 50%;\n",
              "    cursor: pointer;\n",
              "    display: none;\n",
              "    fill: #1967D2;\n",
              "    height: 32px;\n",
              "    padding: 0 0 0 0;\n",
              "    width: 32px;\n",
              "  }\n",
              "\n",
              "  .colab-df-quickchart:hover {\n",
              "    background-color: #E2EBFA;\n",
              "    box-shadow: 0px 1px 2px rgba(60, 64, 67, 0.3), 0px 1px 3px 1px rgba(60, 64, 67, 0.15);\n",
              "    fill: #174EA6;\n",
              "  }\n",
              "\n",
              "  [theme=dark] .colab-df-quickchart {\n",
              "    background-color: #3B4455;\n",
              "    fill: #D2E3FC;\n",
              "  }\n",
              "\n",
              "  [theme=dark] .colab-df-quickchart:hover {\n",
              "    background-color: #434B5C;\n",
              "    box-shadow: 0px 1px 3px 1px rgba(0, 0, 0, 0.15);\n",
              "    filter: drop-shadow(0px 1px 2px rgba(0, 0, 0, 0.3));\n",
              "    fill: #FFFFFF;\n",
              "  }\n",
              "</style>\n",
              "\n",
              "  <script>\n",
              "    async function quickchart(key) {\n",
              "      const charts = await google.colab.kernel.invokeFunction(\n",
              "          'suggestCharts', [key], {});\n",
              "    }\n",
              "    (() => {\n",
              "      let quickchartButtonEl =\n",
              "        document.querySelector('#df-87c14a34-d5a6-470a-bdfa-756dbadc729c button');\n",
              "      quickchartButtonEl.style.display =\n",
              "        google.colab.kernel.accessAllowed ? 'block' : 'none';\n",
              "    })();\n",
              "  </script>\n",
              "</div>\n",
              "    </div>\n",
              "  </div>\n"
            ]
          },
          "metadata": {},
          "execution_count": 31
        }
      ]
    },
    {
      "cell_type": "code",
      "source": [
        "from sklearn.linear_model import LinearRegression\n",
        "from sklearn.metrics import mean_squared_error, r2_score\n",
        "\n",
        "# separo variable objetivo de entrada al modelo\n",
        "X = datos_cardiacos.drop('age', axis=1)\n",
        "y = datos_cardiacos['age']\n",
        "\n",
        "# divido en train y test\n",
        "X_train, X_test, y_train, y_test = train_test_split(X, y, test_size=0.2, random_state=42)"
      ],
      "metadata": {
        "id": "gHM5a9dvrG9l"
      },
      "execution_count": 34,
      "outputs": []
    },
    {
      "cell_type": "code",
      "source": [
        "scaler = MinMaxScaler()\n",
        "\n",
        "X_train_scaled = scaler.fit_transform(X_train)\n",
        "X_test_scaled = scaler.transform(X_test)\n",
        "\n",
        "modelo_lineal = LinearRegression()\n",
        "\n",
        "modelo_lineal.fit(X_train_scaled, y_train)"
      ],
      "metadata": {
        "colab": {
          "base_uri": "https://localhost:8080/",
          "height": 74
        },
        "id": "8JlnhdbBq31W",
        "outputId": "2257f57d-dcfa-4441-a176-96929cf17391"
      },
      "execution_count": 35,
      "outputs": [
        {
          "output_type": "execute_result",
          "data": {
            "text/plain": [
              "LinearRegression()"
            ],
            "text/html": [
              "<style>#sk-container-id-2 {color: black;background-color: white;}#sk-container-id-2 pre{padding: 0;}#sk-container-id-2 div.sk-toggleable {background-color: white;}#sk-container-id-2 label.sk-toggleable__label {cursor: pointer;display: block;width: 100%;margin-bottom: 0;padding: 0.3em;box-sizing: border-box;text-align: center;}#sk-container-id-2 label.sk-toggleable__label-arrow:before {content: \"▸\";float: left;margin-right: 0.25em;color: #696969;}#sk-container-id-2 label.sk-toggleable__label-arrow:hover:before {color: black;}#sk-container-id-2 div.sk-estimator:hover label.sk-toggleable__label-arrow:before {color: black;}#sk-container-id-2 div.sk-toggleable__content {max-height: 0;max-width: 0;overflow: hidden;text-align: left;background-color: #f0f8ff;}#sk-container-id-2 div.sk-toggleable__content pre {margin: 0.2em;color: black;border-radius: 0.25em;background-color: #f0f8ff;}#sk-container-id-2 input.sk-toggleable__control:checked~div.sk-toggleable__content {max-height: 200px;max-width: 100%;overflow: auto;}#sk-container-id-2 input.sk-toggleable__control:checked~label.sk-toggleable__label-arrow:before {content: \"▾\";}#sk-container-id-2 div.sk-estimator input.sk-toggleable__control:checked~label.sk-toggleable__label {background-color: #d4ebff;}#sk-container-id-2 div.sk-label input.sk-toggleable__control:checked~label.sk-toggleable__label {background-color: #d4ebff;}#sk-container-id-2 input.sk-hidden--visually {border: 0;clip: rect(1px 1px 1px 1px);clip: rect(1px, 1px, 1px, 1px);height: 1px;margin: -1px;overflow: hidden;padding: 0;position: absolute;width: 1px;}#sk-container-id-2 div.sk-estimator {font-family: monospace;background-color: #f0f8ff;border: 1px dotted black;border-radius: 0.25em;box-sizing: border-box;margin-bottom: 0.5em;}#sk-container-id-2 div.sk-estimator:hover {background-color: #d4ebff;}#sk-container-id-2 div.sk-parallel-item::after {content: \"\";width: 100%;border-bottom: 1px solid gray;flex-grow: 1;}#sk-container-id-2 div.sk-label:hover label.sk-toggleable__label {background-color: #d4ebff;}#sk-container-id-2 div.sk-serial::before {content: \"\";position: absolute;border-left: 1px solid gray;box-sizing: border-box;top: 0;bottom: 0;left: 50%;z-index: 0;}#sk-container-id-2 div.sk-serial {display: flex;flex-direction: column;align-items: center;background-color: white;padding-right: 0.2em;padding-left: 0.2em;position: relative;}#sk-container-id-2 div.sk-item {position: relative;z-index: 1;}#sk-container-id-2 div.sk-parallel {display: flex;align-items: stretch;justify-content: center;background-color: white;position: relative;}#sk-container-id-2 div.sk-item::before, #sk-container-id-2 div.sk-parallel-item::before {content: \"\";position: absolute;border-left: 1px solid gray;box-sizing: border-box;top: 0;bottom: 0;left: 50%;z-index: -1;}#sk-container-id-2 div.sk-parallel-item {display: flex;flex-direction: column;z-index: 1;position: relative;background-color: white;}#sk-container-id-2 div.sk-parallel-item:first-child::after {align-self: flex-end;width: 50%;}#sk-container-id-2 div.sk-parallel-item:last-child::after {align-self: flex-start;width: 50%;}#sk-container-id-2 div.sk-parallel-item:only-child::after {width: 0;}#sk-container-id-2 div.sk-dashed-wrapped {border: 1px dashed gray;margin: 0 0.4em 0.5em 0.4em;box-sizing: border-box;padding-bottom: 0.4em;background-color: white;}#sk-container-id-2 div.sk-label label {font-family: monospace;font-weight: bold;display: inline-block;line-height: 1.2em;}#sk-container-id-2 div.sk-label-container {text-align: center;}#sk-container-id-2 div.sk-container {/* jupyter's `normalize.less` sets `[hidden] { display: none; }` but bootstrap.min.css set `[hidden] { display: none !important; }` so we also need the `!important` here to be able to override the default hidden behavior on the sphinx rendered scikit-learn.org. See: https://github.com/scikit-learn/scikit-learn/issues/21755 */display: inline-block !important;position: relative;}#sk-container-id-2 div.sk-text-repr-fallback {display: none;}</style><div id=\"sk-container-id-2\" class=\"sk-top-container\"><div class=\"sk-text-repr-fallback\"><pre>LinearRegression()</pre><b>In a Jupyter environment, please rerun this cell to show the HTML representation or trust the notebook. <br />On GitHub, the HTML representation is unable to render, please try loading this page with nbviewer.org.</b></div><div class=\"sk-container\" hidden><div class=\"sk-item\"><div class=\"sk-estimator sk-toggleable\"><input class=\"sk-toggleable__control sk-hidden--visually\" id=\"sk-estimator-id-2\" type=\"checkbox\" checked><label for=\"sk-estimator-id-2\" class=\"sk-toggleable__label sk-toggleable__label-arrow\">LinearRegression</label><div class=\"sk-toggleable__content\"><pre>LinearRegression()</pre></div></div></div></div></div>"
            ]
          },
          "metadata": {},
          "execution_count": 35
        }
      ]
    },
    {
      "cell_type": "code",
      "source": [
        "y_pred = modelo_lineal.predict(X_test_scaled)\n",
        "\n",
        "# error cuadrático medio\n",
        "mse = mean_squared_error(y_test, y_pred)\n",
        "\n",
        "r2 = r2_score(y_test, y_pred)\n",
        "\n",
        "print(\"Error cuadrático medio (MSE):\", mse)\n",
        "print(\"Coeficiente de determinación (R-squared):\", r2)"
      ],
      "metadata": {
        "colab": {
          "base_uri": "https://localhost:8080/"
        },
        "id": "G8P6XgH0rOP1",
        "outputId": "b69dcce5-de08-4aea-d1dd-d240f63755c0"
      },
      "execution_count": 36,
      "outputs": [
        {
          "output_type": "stream",
          "name": "stdout",
          "text": [
            "Error cuadrático medio (MSE): 129.31270941510735\n",
            "Coeficiente de determinación (R-squared): 0.009823045929786334\n"
          ]
        }
      ]
    },
    {
      "cell_type": "code",
      "source": [
        "y_pred"
      ],
      "metadata": {
        "colab": {
          "base_uri": "https://localhost:8080/"
        },
        "id": "9PjRvvkQsvd-",
        "outputId": "dac8e05c-088c-46a0-e7d8-0bac0ba463f8"
      },
      "execution_count": 39,
      "outputs": [
        {
          "output_type": "execute_result",
          "data": {
            "text/plain": [
              "array([58.06822938, 59.82113342, 63.97216468, 70.62168351, 57.9179268 ,\n",
              "       54.66097289, 68.41724192, 58.34139425, 69.68891608, 59.18681066,\n",
              "       61.37839141, 69.70059749, 66.55473447, 59.20348859, 59.61783577,\n",
              "       61.17997719, 61.99434828, 58.93046124, 68.01746044, 68.57953627,\n",
              "       57.14880265, 59.71085846, 59.35699188, 68.04455195, 65.41435565,\n",
              "       59.04075159, 56.4852473 , 59.77538838, 65.02164552, 61.87265829,\n",
              "       66.13455039, 60.8309114 , 55.45876155, 63.34485096, 64.70360478,\n",
              "       69.45984856, 69.87856444, 66.9438933 , 58.6357513 , 59.84484183,\n",
              "       65.762031  , 63.24646492, 59.11166376, 59.3746908 , 58.14657724,\n",
              "       56.60321128, 55.57210993, 53.84570319, 55.63643848, 61.0180384 ,\n",
              "       67.42478304, 66.54693403, 63.63466187, 57.99702766, 56.34752105,\n",
              "       57.11565332, 58.0889173 , 63.43373554, 55.75684863, 63.34576148])"
            ]
          },
          "metadata": {},
          "execution_count": 39
        }
      ]
    },
    {
      "cell_type": "code",
      "source": [
        "y_test.values"
      ],
      "metadata": {
        "colab": {
          "base_uri": "https://localhost:8080/"
        },
        "id": "ydmO86Mdss3Q",
        "outputId": "9e4a206a-e358-4c87-f3c8-edc0515b061a"
      },
      "execution_count": 38,
      "outputs": [
        {
          "output_type": "execute_result",
          "data": {
            "text/plain": [
              "array([70., 50., 45., 80., 42., 50., 60., 45., 90., 50., 70., 77., 58.,\n",
              "       65., 60., 45., 64., 63., 45., 80., 60., 60., 64., 51., 70., 45.,\n",
              "       70., 60., 48., 75., 45., 55., 50., 75., 50., 60., 70., 45., 55.,\n",
              "       42., 60., 60., 65., 70., 53., 65., 70., 65., 55., 63., 72., 50.,\n",
              "       59., 40., 70., 65., 54., 80., 49., 72.])"
            ]
          },
          "metadata": {},
          "execution_count": 38
        }
      ]
    }
  ]
}